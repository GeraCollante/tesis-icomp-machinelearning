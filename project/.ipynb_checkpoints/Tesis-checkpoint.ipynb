{
 "cells": [
  {
   "cell_type": "code",
   "execution_count": 3,
   "metadata": {},
   "outputs": [],
   "source": [
    "import pandas as pd\n",
    "import os\n",
    "\n",
    "pd.options.display.max_columns = None\n",
    "\n",
    "DATADIR = 'data/2019/'\n",
    "PESD = os.path.join(DATADIR, '7-PESD VU.xlsm')\n",
    "SAVES = os.path.join(DATADIR, '9-SAVES VU.xlsm')"
   ]
  },
  {
   "cell_type": "code",
   "execution_count": 4,
   "metadata": {},
   "outputs": [],
   "source": [
    "path = os.path.join(DATADIR, SAVES)\n",
    "\n",
    "#df = pd.read_excel(PESD, 'Requete')\n",
    "df = pd.read_excel(SAVES, 'Datos')"
   ]
  },
  {
   "cell_type": "code",
   "execution_count": 6,
   "metadata": {},
   "outputs": [],
   "source": [
    "df['date'] = pd.to_datetime(df['Día'], infer_datetime_format=True, errors ='coerce')"
   ]
  },
  {
   "cell_type": "code",
   "execution_count": 14,
   "metadata": {
    "scrolled": true
   },
   "outputs": [],
   "source": [
    "df.rename(columns={'Num. de Identificacion': 'PJI'}, inplace=True)"
   ]
  },
  {
   "cell_type": "code",
   "execution_count": 29,
   "metadata": {},
   "outputs": [],
   "source": [
    "df[['Incidente', 'Elemento']] = df['Codigo'].str.split('-', expand=True)"
   ]
  },
  {
   "cell_type": "code",
   "execution_count": 33,
   "metadata": {},
   "outputs": [],
   "source": [
    "df = df[['date', 'PJI', 'Codigo', 'DEMERITO', 'DPTO', 'Elemento', 'Incidente']]"
   ]
  },
  {
   "cell_type": "code",
   "execution_count": 38,
   "metadata": {
    "scrolled": true
   },
   "outputs": [],
   "source": [
    "#df[['ELE', 'INC']] = df['CONCATENADO ELE-INC'].str.split(\"-\",expand=True)\n",
    "df['date'] = pd.to_datetime(df['Horodatage de déclaration3'], infer_datetime_format=True, errors ='coerce')\n",
    "#df.drop(columns={'MODELO', 'CONCATENADO ELE-INC', 'Descripción Elem-Inci', 'Quantité', 'Horodatage de déclaration', 'Commentaire', 'Code ponce du déclarant', 'Code ponce du retoucheur', 'nd/nr/mr', 'Libellé du ponce', 'ELEMENTO', 'INCIDENTE', 'Libellé département imputé'}, inplace=True)"
   ]
  },
  {
   "cell_type": "code",
   "execution_count": 39,
   "metadata": {},
   "outputs": [],
   "source": [
    "df.rename(columns={'PJI avec défaut':'PJI', 'INC':'Incidente', 'ELE':'Elemento', 'Démérite':'Gravedad', 'date':'Fecha', 'Libellé regt incident':'Familia', 'Code Localisation':'Localizacion', 'Code UET imputée':'UET'}, inplace=True)"
   ]
  },
  {
   "cell_type": "code",
   "execution_count": 46,
   "metadata": {
    "scrolled": true
   },
   "outputs": [
    {
     "data": {
      "text/plain": [
       "464"
      ]
     },
     "execution_count": 46,
     "metadata": {},
     "output_type": "execute_result"
    }
   ],
   "source": [
    "df['PJI'].value_counts().sum()"
   ]
  },
  {
   "cell_type": "code",
   "execution_count": 35,
   "metadata": {},
   "outputs": [
    {
     "data": {
      "text/plain": [
       "<AxesSubplot:xlabel='DEMERITO'>"
      ]
     },
     "execution_count": 35,
     "metadata": {},
     "output_type": "execute_result"
    },
    {
     "data": {
      "image/png": "[encoded data removed]",
      "text/plain": [
       "<Figure size 432x288 with 1 Axes>"
      ]
     },
     "metadata": {
      "needs_background": "light"
     },
     "output_type": "display_data"
    }
   ],
   "source": [
    "df['date'].groupby([df['DEMERITO']]).count().plot(kind='bar')"
   ]
  },
  {
   "cell_type": "code",
   "execution_count": 41,
   "metadata": {},
   "outputs": [],
   "source": [
    "df = df[['PJI', 'Fecha', 'Elemento', 'Incidente', 'Localizacion', 'Gravedad', 'Familia', 'Departamento', 'UET']]"
   ]
  },
  {
   "cell_type": "code",
   "execution_count": 32,
   "metadata": {
    "scrolled": true
   },
   "outputs": [],
   "source": [
    "df = df[df['Fecha']>='2019-01-01']"
   ]
  },
  {
   "cell_type": "code",
   "execution_count": 33,
   "metadata": {},
   "outputs": [
    {
     "data": {
      "text/plain": [
       "<AxesSubplot:xlabel='Gravedad'>"
      ]
     },
     "execution_count": 33,
     "metadata": {},
     "output_type": "execute_result"
    },
    {
     "data": {
      "image/png": "[encoded data removed]",
      "text/plain": [
       "<Figure size 432x288 with 1 Axes>"
      ]
     },
     "metadata": {
      "needs_background": "light"
     },
     "output_type": "display_data"
    }
   ],
   "source": [
    "df['Fecha'].groupby([df['Gravedad']]).count().plot(kind='bar')"
   ]
  },
  {
   "cell_type": "code",
   "execution_count": 40,
   "metadata": {},
   "outputs": [
    {
     "data": {
      "text/plain": [
       "<AxesSubplot:xlabel='date,date'>"
      ]
     },
     "execution_count": 40,
     "metadata": {},
     "output_type": "execute_result"
    },
    {
     "data": {
      "image/png": "[encoded data removed]",
      "text/plain": [
       "<Figure size 432x288 with 1 Axes>"
      ]
     },
     "metadata": {
      "needs_background": "light"
     },
     "output_type": "display_data"
    }
   ],
   "source": [
    "df['PJI'].groupby([df[\"date\"].dt.year, df[\"date\"].dt.month]).count().plot(kind=\"bar\")"
   ]
  },
  {
   "cell_type": "code",
   "execution_count": null,
   "metadata": {},
   "outputs": [],
   "source": [
    "df.head(10)"
   ]
  },
  {
   "cell_type": "code",
   "execution_count": 35,
   "metadata": {},
   "outputs": [
    {
     "data": {
      "text/html": [
       "<div>\n",
       "<style scoped>\n",
       "    .dataframe tbody tr th:only-of-type {\n",
       "        vertical-align: middle;\n",
       "    }\n",
       "\n",
       "    .dataframe tbody tr th {\n",
       "        vertical-align: top;\n",
       "    }\n",
       "\n",
       "    .dataframe thead th {\n",
       "        text-align: right;\n",
       "    }\n",
       "</style>\n",
       "<table border=\"1\" class=\"dataframe\">\n",
       "  <thead>\n",
       "    <tr style=\"text-align: right;\">\n",
       "      <th></th>\n",
       "      <th>PJI</th>\n",
       "      <th>Fecha</th>\n",
       "      <th>Elemento</th>\n",
       "      <th>Incidente</th>\n",
       "      <th>Localizacion</th>\n",
       "      <th>Gravedad</th>\n",
       "      <th>Familia</th>\n",
       "      <th>Departamento</th>\n",
       "      <th>UET</th>\n",
       "    </tr>\n",
       "  </thead>\n",
       "  <tbody>\n",
       "    <tr>\n",
       "      <th>238</th>\n",
       "      <td>6.551904e+11</td>\n",
       "      <td>2019-01-30 06:29:00</td>\n",
       "      <td>6116</td>\n",
       "      <td>2120</td>\n",
       "      <td></td>\n",
       "      <td>V2</td>\n",
       "      <td>GEOMETRIA</td>\n",
       "      <td>MONTAJE VU</td>\n",
       "      <td>627</td>\n",
       "    </tr>\n",
       "    <tr>\n",
       "      <th>125</th>\n",
       "      <td>6.551904e+11</td>\n",
       "      <td>2019-01-30 06:29:00</td>\n",
       "      <td>4374</td>\n",
       "      <td>1270</td>\n",
       "      <td>X55Y55</td>\n",
       "      <td>V2</td>\n",
       "      <td>ASPECTO-INCI</td>\n",
       "      <td>PINTURA</td>\n",
       "      <td>484</td>\n",
       "    </tr>\n",
       "    <tr>\n",
       "      <th>277</th>\n",
       "      <td>6.551904e+11</td>\n",
       "      <td>2019-01-30 06:29:00</td>\n",
       "      <td>5651</td>\n",
       "      <td>4040</td>\n",
       "      <td></td>\n",
       "      <td>V2</td>\n",
       "      <td>MODO OPERATORIO/PROCESO</td>\n",
       "      <td>MONTAJE VU</td>\n",
       "      <td>627</td>\n",
       "    </tr>\n",
       "    <tr>\n",
       "      <th>234</th>\n",
       "      <td>6.551904e+11</td>\n",
       "      <td>2019-01-30 06:29:00</td>\n",
       "      <td>6315</td>\n",
       "      <td>2120</td>\n",
       "      <td></td>\n",
       "      <td>V2</td>\n",
       "      <td>GEOMETRIA</td>\n",
       "      <td>MONTAJE VU</td>\n",
       "      <td>618</td>\n",
       "    </tr>\n",
       "    <tr>\n",
       "      <th>86</th>\n",
       "      <td>6.551904e+11</td>\n",
       "      <td>2019-01-30 06:29:00</td>\n",
       "      <td>4415</td>\n",
       "      <td>0230</td>\n",
       "      <td></td>\n",
       "      <td>V2</td>\n",
       "      <td>ASPECTO-INCI</td>\n",
       "      <td>PINTURA</td>\n",
       "      <td>484</td>\n",
       "    </tr>\n",
       "    <tr>\n",
       "      <th>...</th>\n",
       "      <td>...</td>\n",
       "      <td>...</td>\n",
       "      <td>...</td>\n",
       "      <td>...</td>\n",
       "      <td>...</td>\n",
       "      <td>...</td>\n",
       "      <td>...</td>\n",
       "      <td>...</td>\n",
       "      <td>...</td>\n",
       "    </tr>\n",
       "    <tr>\n",
       "      <th>24664</th>\n",
       "      <td>6.551920e+11</td>\n",
       "      <td>2019-06-28 11:42:00</td>\n",
       "      <td>4311</td>\n",
       "      <td>2150</td>\n",
       "      <td></td>\n",
       "      <td>V2</td>\n",
       "      <td>NaN</td>\n",
       "      <td>MONTAJE VU</td>\n",
       "      <td>603</td>\n",
       "    </tr>\n",
       "    <tr>\n",
       "      <th>24653</th>\n",
       "      <td>6.551920e+11</td>\n",
       "      <td>2019-06-28 11:42:00</td>\n",
       "      <td>4213</td>\n",
       "      <td>1430</td>\n",
       "      <td>E54</td>\n",
       "      <td>V2</td>\n",
       "      <td>ASPECTO-INCI</td>\n",
       "      <td>PINTURA</td>\n",
       "      <td>484</td>\n",
       "    </tr>\n",
       "    <tr>\n",
       "      <th>24642</th>\n",
       "      <td>6.551920e+11</td>\n",
       "      <td>2019-06-28 11:46:00</td>\n",
       "      <td>4210</td>\n",
       "      <td>1221</td>\n",
       "      <td>E59</td>\n",
       "      <td>V2</td>\n",
       "      <td>ASPECTO-INCI</td>\n",
       "      <td>PINTURA</td>\n",
       "      <td>483</td>\n",
       "    </tr>\n",
       "    <tr>\n",
       "      <th>24548</th>\n",
       "      <td>6.551920e+11</td>\n",
       "      <td>2019-06-28 11:46:00</td>\n",
       "      <td>4468</td>\n",
       "      <td>0006</td>\n",
       "      <td></td>\n",
       "      <td>V2</td>\n",
       "      <td>ASPECTO-INCI</td>\n",
       "      <td>PINTURA</td>\n",
       "      <td>484</td>\n",
       "    </tr>\n",
       "    <tr>\n",
       "      <th>24568</th>\n",
       "      <td>6.551920e+11</td>\n",
       "      <td>2019-06-28 11:47:00</td>\n",
       "      <td>4506</td>\n",
       "      <td>0170</td>\n",
       "      <td></td>\n",
       "      <td>V2</td>\n",
       "      <td>NaN</td>\n",
       "      <td>SQF</td>\n",
       "      <td>151</td>\n",
       "    </tr>\n",
       "  </tbody>\n",
       "</table>\n",
       "<p>15088 rows × 9 columns</p>\n",
       "</div>"
      ],
      "text/plain": [
       "                PJI               Fecha Elemento Incidente Localizacion  \\\n",
       "238    6.551904e+11 2019-01-30 06:29:00     6116      2120                \n",
       "125    6.551904e+11 2019-01-30 06:29:00     4374      1270       X55Y55   \n",
       "277    6.551904e+11 2019-01-30 06:29:00     5651      4040                \n",
       "234    6.551904e+11 2019-01-30 06:29:00     6315      2120                \n",
       "86     6.551904e+11 2019-01-30 06:29:00     4415      0230                \n",
       "...             ...                 ...      ...       ...          ...   \n",
       "24664  6.551920e+11 2019-06-28 11:42:00     4311      2150                \n",
       "24653  6.551920e+11 2019-06-28 11:42:00     4213      1430          E54   \n",
       "24642  6.551920e+11 2019-06-28 11:46:00     4210      1221          E59   \n",
       "24548  6.551920e+11 2019-06-28 11:46:00     4468      0006                \n",
       "24568  6.551920e+11 2019-06-28 11:47:00     4506      0170                \n",
       "\n",
       "      Gravedad                  Familia Departamento  UET  \n",
       "238         V2                GEOMETRIA   MONTAJE VU  627  \n",
       "125         V2             ASPECTO-INCI      PINTURA  484  \n",
       "277         V2  MODO OPERATORIO/PROCESO   MONTAJE VU  627  \n",
       "234         V2                GEOMETRIA   MONTAJE VU  618  \n",
       "86          V2             ASPECTO-INCI      PINTURA  484  \n",
       "...        ...                      ...          ...  ...  \n",
       "24664       V2                      NaN   MONTAJE VU  603  \n",
       "24653       V2             ASPECTO-INCI      PINTURA  484  \n",
       "24642       V2             ASPECTO-INCI      PINTURA  483  \n",
       "24548       V2             ASPECTO-INCI      PINTURA  484  \n",
       "24568       V2                      NaN          SQF  151  \n",
       "\n",
       "[15088 rows x 9 columns]"
      ]
     },
     "execution_count": 35,
     "metadata": {},
     "output_type": "execute_result"
    }
   ],
   "source": [
    "df.sort_values(by='Fecha')"
   ]
  },
  {
   "cell_type": "code",
   "execution_count": 47,
   "metadata": {},
   "outputs": [],
   "source": [
    "df.to_csv('saves.csv')"
   ]
  }
 ],
 "metadata": {
  "kernelspec": {
   "display_name": "Python 3.8.1 32-bit",
   "language": "python",
   "name": "python38132bit7f9910df86e64c3d95c9a32f85280482"
  },
  "language_info": {
   "codemirror_mode": {
    "name": "ipython",
    "version": 3
   },
   "file_extension": ".py",
   "mimetype": "text/x-python",
   "name": "python",
   "nbconvert_exporter": "python",
   "pygments_lexer": "ipython3",
   "version": "3.8.1"
  }
 },
 "nbformat": 4,
 "nbformat_minor": 2
}
