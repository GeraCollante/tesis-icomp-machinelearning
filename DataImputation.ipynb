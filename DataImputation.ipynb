{
 "cells": [
  {
   "cell_type": "markdown",
   "metadata": {
    "id": "_OKbG_V-f8op"
   },
   "source": [
    "# **Imputación de datos**\r\n",
    "Se sustituiran los valores faltantes utilizando algoritmos de ML para predecirlos.\r\n"
   ]
  },
  {
   "cell_type": "markdown",
   "metadata": {
    "id": "5ZqktRodgQru"
   },
   "source": [
    "## Setup"
   ]
  },
  {
   "cell_type": "code",
   "execution_count": 7,
   "metadata": {
    "id": "oKs2eXjfjEJB"
   },
   "outputs": [],
   "source": [
    "import pandas as pd\n",
    "import numpy as np\n",
    "import os \n",
    "import seaborn as sns\n",
    "import matplotlib.pyplot as plt\n",
    "from scipy import stats\n",
    "\n",
    "plt.style.use('seaborn-whitegrid')\n",
    "sns.set(rc={'figure.figsize':(11.7,8.27)})\n",
    "\n",
    "# Set max columns\n",
    "pd.set_option('display.max_columns', None)\n",
    "\n",
    "DATADIR = 'data/2020/'\n",
    "MODELS = 'models/'\n",
    "\n",
    "# Set paths\n",
    "DATASET = os.path.join(DATADIR, '2020pp.csv')"
   ]
  },
  {
   "cell_type": "code",
   "execution_count": 2,
   "metadata": {
    "colab": {
     "base_uri": "https://localhost:8080/"
    },
    "id": "sh8fVUeuXRQa",
    "outputId": "803ab8d3-6a6f-4c1b-8fe9-207681b94cec"
   },
   "outputs": [
    {
     "name": "stdout",
     "output_type": "stream",
     "text": [
      "Defaulting to user installation because normal site-packages is not writeable\n",
      "Requirement already satisfied: scikit-learn in /home/gerac/.local/lib/python3.9/site-packages (0.24.1)\n",
      "Requirement already satisfied: scipy>=0.19.1 in /home/gerac/.local/lib/python3.9/site-packages (from scikit-learn) (1.6.0)\n",
      "Requirement already satisfied: threadpoolctl>=2.0.0 in /home/gerac/.local/lib/python3.9/site-packages (from scikit-learn) (2.1.0)\n",
      "Requirement already satisfied: numpy>=1.13.3 in /home/gerac/.local/lib/python3.9/site-packages (from scikit-learn) (1.19.4)\n",
      "Requirement already satisfied: joblib>=0.11 in /home/gerac/.local/lib/python3.9/site-packages (from scikit-learn) (1.0.0)\n"
     ]
    }
   ],
   "source": [
    "!pip install --upgrade scikit-learn"
   ]
  },
  {
   "cell_type": "code",
   "execution_count": 3,
   "metadata": {},
   "outputs": [],
   "source": [
    "try:\n",
    "    from google.colab import drive # import drive from google colab\n",
    "    ROOT = \"/content/drive\"     # default location for the drive\n",
    "    print(ROOT)                 # print content of ROOT (Optional)\n",
    "    drive.mount(ROOT)           # we mount the google drive at /content/drive\n",
    "    IN_COLAB = True\n",
    "except:\n",
    "    IN_COLAB = False"
   ]
  },
  {
   "cell_type": "code",
   "execution_count": 4,
   "metadata": {},
   "outputs": [
    {
     "data": {
      "text/plain": [
       "False"
      ]
     },
     "execution_count": 4,
     "metadata": {},
     "output_type": "execute_result"
    }
   ],
   "source": [
    "IN_COLAB"
   ]
  },
  {
   "cell_type": "raw",
   "metadata": {
    "colab": {
     "base_uri": "https://localhost:8080/"
    },
    "executionInfo": {
     "elapsed": 86223816,
     "status": "ok",
     "timestamp": 1612567819906,
     "user": {
      "displayName": "GERARDO ALEXIS COLLANTE",
      "photoUrl": "",
      "userId": "09800145111652158848"
     },
     "user_tz": 180
    },
    "id": "hH6gM0cSzCtN",
    "outputId": "1383c812-48a5-46b4-ef7c-8373d60fe85f"
   },
   "source": [
    "# Mount Google Drive\n",
    "from google.colab import drive # import drive from google colab\n",
    "\n",
    "ROOT = \"/content/drive\"     # default location for the drive\n",
    "print(ROOT)                 # print content of ROOT (Optional)\n",
    "\n",
    "drive.mount(ROOT)           # we mount the google drive at /content/drive"
   ]
  },
  {
   "cell_type": "code",
   "execution_count": 5,
   "metadata": {
    "colab": {
     "base_uri": "https://localhost:8080/"
    },
    "executionInfo": {
     "elapsed": 50,
     "status": "ok",
     "timestamp": 1612567819909,
     "user": {
      "displayName": "GERARDO ALEXIS COLLANTE",
      "photoUrl": "",
      "userId": "09800145111652158848"
     },
     "user_tz": 180
    },
    "id": "gsKaZDOazi4C",
    "outputId": "c8bef506-a50d-49b3-f1f1-7a870d49cfb1"
   },
   "outputs": [],
   "source": [
    "if IN_COLAB:\n",
    "    %cd drive/MyDrive/Facultad/Tesis"
   ]
  },
  {
   "cell_type": "code",
   "execution_count": 6,
   "metadata": {
    "colab": {
     "base_uri": "https://localhost:8080/"
    },
    "executionInfo": {
     "elapsed": 35,
     "status": "ok",
     "timestamp": 1612567819911,
     "user": {
      "displayName": "GERARDO ALEXIS COLLANTE",
      "photoUrl": "",
      "userId": "09800145111652158848"
     },
     "user_tz": 180
    },
    "id": "1Zynillmz0pO",
    "outputId": "b89f8b7f-c518-45a6-f243-9f08104a68ad"
   },
   "outputs": [
    {
     "name": "stdout",
     "output_type": "stream",
     "text": [
      "data  DataImputation.ipynb  models  tipo.csv  Untitled0.ipynb  Untitled1.ipynb\n"
     ]
    }
   ],
   "source": [
    "!ls"
   ]
  },
  {
   "cell_type": "markdown",
   "metadata": {
    "id": "oQEuf9wygUue"
   },
   "source": [
    "## Carga dataset"
   ]
  },
  {
   "cell_type": "code",
   "execution_count": 8,
   "metadata": {
    "colab": {
     "base_uri": "https://localhost:8080/"
    },
    "executionInfo": {
     "elapsed": 2612,
     "status": "ok",
     "timestamp": 1612567827587,
     "user": {
      "displayName": "GERARDO ALEXIS COLLANTE",
      "photoUrl": "",
      "userId": "09800145111652158848"
     },
     "user_tz": 180
    },
    "id": "mvslzGBgjEJP",
    "outputId": "90ed3f61-5cde-461d-ee6c-fbea003e3c08",
    "scrolled": true
   },
   "outputs": [
    {
     "name": "stderr",
     "output_type": "stream",
     "text": [
      "/usr/lib/python3.9/site-packages/IPython/core/interactiveshell.py:3146: DtypeWarning: Columns (6,7,8,10,11,12) have mixed types.Specify dtype option on import or set low_memory=False.\n",
      "  has_raised = await self.run_ast_nodes(code_ast.body, cell_name,\n"
     ]
    }
   ],
   "source": [
    "df = pd.read_csv(DATASET, index_col=[0])"
   ]
  },
  {
   "cell_type": "code",
   "execution_count": 8,
   "metadata": {
    "colab": {
     "base_uri": "https://localhost:8080/",
     "height": 424
    },
    "executionInfo": {
     "elapsed": 3854,
     "status": "ok",
     "timestamp": 1612567828847,
     "user": {
      "displayName": "GERARDO ALEXIS COLLANTE",
      "photoUrl": "",
      "userId": "09800145111652158848"
     },
     "user_tz": 180
    },
    "id": "VUf76MTkjEJS",
    "outputId": "930dc265-cfc9-4e71-e50b-084f8db6ee9c",
    "scrolled": true
   },
   "outputs": [
    {
     "data": {
      "text/html": [
       "<div>\n",
       "<style scoped>\n",
       "    .dataframe tbody tr th:only-of-type {\n",
       "        vertical-align: middle;\n",
       "    }\n",
       "\n",
       "    .dataframe tbody tr th {\n",
       "        vertical-align: top;\n",
       "    }\n",
       "\n",
       "    .dataframe thead th {\n",
       "        text-align: right;\n",
       "    }\n",
       "</style>\n",
       "<table border=\"1\" class=\"dataframe\">\n",
       "  <thead>\n",
       "    <tr style=\"text-align: right;\">\n",
       "      <th></th>\n",
       "      <th>AUDI</th>\n",
       "      <th>DECL</th>\n",
       "      <th>DPTO</th>\n",
       "      <th>ELE</th>\n",
       "      <th>GVD</th>\n",
       "      <th>INC</th>\n",
       "      <th>INOFFDPTO</th>\n",
       "      <th>INOFFUSI</th>\n",
       "      <th>LOC</th>\n",
       "      <th>MADU</th>\n",
       "      <th>PJI</th>\n",
       "      <th>RETO</th>\n",
       "      <th>TALL</th>\n",
       "      <th>TIPO</th>\n",
       "      <th>UET</th>\n",
       "      <th>ZONA</th>\n",
       "    </tr>\n",
       "  </thead>\n",
       "  <tbody>\n",
       "    <tr>\n",
       "      <th>0</th>\n",
       "      <td>CAPS</td>\n",
       "      <td>2020-01-27 09:00:00.000000</td>\n",
       "      <td>NaN</td>\n",
       "      <td>4120</td>\n",
       "      <td>V2</td>\n",
       "      <td>180</td>\n",
       "      <td>NaN</td>\n",
       "      <td>NaN</td>\n",
       "      <td>NaN</td>\n",
       "      <td>NaN</td>\n",
       "      <td>655200530232</td>\n",
       "      <td>NaN</td>\n",
       "      <td>NaN</td>\n",
       "      <td>NaN</td>\n",
       "      <td>NaN</td>\n",
       "      <td>NaN</td>\n",
       "    </tr>\n",
       "    <tr>\n",
       "      <th>1</th>\n",
       "      <td>CAPS</td>\n",
       "      <td>2020-01-27 09:00:00.000000</td>\n",
       "      <td>NaN</td>\n",
       "      <td>4466</td>\n",
       "      <td>V2</td>\n",
       "      <td>1010</td>\n",
       "      <td>NaN</td>\n",
       "      <td>NaN</td>\n",
       "      <td>NaN</td>\n",
       "      <td>NaN</td>\n",
       "      <td>655200420197</td>\n",
       "      <td>NaN</td>\n",
       "      <td>NaN</td>\n",
       "      <td>NaN</td>\n",
       "      <td>NaN</td>\n",
       "      <td>NaN</td>\n",
       "    </tr>\n",
       "    <tr>\n",
       "      <th>2</th>\n",
       "      <td>CAPS</td>\n",
       "      <td>2020-01-27 09:00:00.000000</td>\n",
       "      <td>NaN</td>\n",
       "      <td>4420</td>\n",
       "      <td>V2</td>\n",
       "      <td>1110</td>\n",
       "      <td>NaN</td>\n",
       "      <td>NaN</td>\n",
       "      <td>NaN</td>\n",
       "      <td>NaN</td>\n",
       "      <td>655200450172</td>\n",
       "      <td>NaN</td>\n",
       "      <td>NaN</td>\n",
       "      <td>NaN</td>\n",
       "      <td>NaN</td>\n",
       "      <td>NaN</td>\n",
       "    </tr>\n",
       "    <tr>\n",
       "      <th>3</th>\n",
       "      <td>CAPS</td>\n",
       "      <td>2020-01-27 09:00:00.000000</td>\n",
       "      <td>NaN</td>\n",
       "      <td>4412</td>\n",
       "      <td>V2</td>\n",
       "      <td>1180</td>\n",
       "      <td>NaN</td>\n",
       "      <td>NaN</td>\n",
       "      <td>NaN</td>\n",
       "      <td>NaN</td>\n",
       "      <td>655200450172</td>\n",
       "      <td>NaN</td>\n",
       "      <td>NaN</td>\n",
       "      <td>NaN</td>\n",
       "      <td>NaN</td>\n",
       "      <td>NaN</td>\n",
       "    </tr>\n",
       "    <tr>\n",
       "      <th>4</th>\n",
       "      <td>CAPS</td>\n",
       "      <td>2020-01-27 09:00:00.000000</td>\n",
       "      <td>NaN</td>\n",
       "      <td>4414</td>\n",
       "      <td>V2</td>\n",
       "      <td>1270</td>\n",
       "      <td>NaN</td>\n",
       "      <td>NaN</td>\n",
       "      <td>NaN</td>\n",
       "      <td>NaN</td>\n",
       "      <td>655200420197</td>\n",
       "      <td>NaN</td>\n",
       "      <td>NaN</td>\n",
       "      <td>NaN</td>\n",
       "      <td>NaN</td>\n",
       "      <td>NaN</td>\n",
       "    </tr>\n",
       "    <tr>\n",
       "      <th>...</th>\n",
       "      <td>...</td>\n",
       "      <td>...</td>\n",
       "      <td>...</td>\n",
       "      <td>...</td>\n",
       "      <td>...</td>\n",
       "      <td>...</td>\n",
       "      <td>...</td>\n",
       "      <td>...</td>\n",
       "      <td>...</td>\n",
       "      <td>...</td>\n",
       "      <td>...</td>\n",
       "      <td>...</td>\n",
       "      <td>...</td>\n",
       "      <td>...</td>\n",
       "      <td>...</td>\n",
       "      <td>...</td>\n",
       "    </tr>\n",
       "    <tr>\n",
       "      <th>235533</th>\n",
       "      <td>PESD</td>\n",
       "      <td>2020-12-30 09:06:00</td>\n",
       "      <td>PINT</td>\n",
       "      <td>4502</td>\n",
       "      <td>V2</td>\n",
       "      <td>1000</td>\n",
       "      <td>NaN</td>\n",
       "      <td>NaN</td>\n",
       "      <td>GRAL</td>\n",
       "      <td>NaN</td>\n",
       "      <td>655210140012</td>\n",
       "      <td>NaN</td>\n",
       "      <td>SERVP</td>\n",
       "      <td>ASP</td>\n",
       "      <td>DIP</td>\n",
       "      <td>PESD</td>\n",
       "    </tr>\n",
       "    <tr>\n",
       "      <th>235534</th>\n",
       "      <td>PESD</td>\n",
       "      <td>2020-12-30 10:03:00</td>\n",
       "      <td>SOLD</td>\n",
       "      <td>7887</td>\n",
       "      <td>V2</td>\n",
       "      <td>3220</td>\n",
       "      <td>NaN</td>\n",
       "      <td>NaN</td>\n",
       "      <td>NaN</td>\n",
       "      <td>NaN</td>\n",
       "      <td>655210140033</td>\n",
       "      <td>NaN</td>\n",
       "      <td>TOLE4</td>\n",
       "      <td>GMTR</td>\n",
       "      <td>659</td>\n",
       "      <td>PESD</td>\n",
       "    </tr>\n",
       "    <tr>\n",
       "      <th>235535</th>\n",
       "      <td>PESD</td>\n",
       "      <td>2020-12-30 10:03:00</td>\n",
       "      <td>MONT</td>\n",
       "      <td>5215</td>\n",
       "      <td>V2</td>\n",
       "      <td>4450</td>\n",
       "      <td>NaN</td>\n",
       "      <td>NaN</td>\n",
       "      <td>K74</td>\n",
       "      <td>NaN</td>\n",
       "      <td>655210140033</td>\n",
       "      <td>NaN</td>\n",
       "      <td>CH-ME</td>\n",
       "      <td>NCON</td>\n",
       "      <td>654</td>\n",
       "      <td>PESD</td>\n",
       "    </tr>\n",
       "    <tr>\n",
       "      <th>235536</th>\n",
       "      <td>PESD</td>\n",
       "      <td>2020-12-30 10:03:00</td>\n",
       "      <td>PINT</td>\n",
       "      <td>4401</td>\n",
       "      <td>V2</td>\n",
       "      <td>1190</td>\n",
       "      <td>NaN</td>\n",
       "      <td>NaN</td>\n",
       "      <td>H54</td>\n",
       "      <td>NaN</td>\n",
       "      <td>655210140033</td>\n",
       "      <td>NaN</td>\n",
       "      <td>PTAL2</td>\n",
       "      <td>ASP</td>\n",
       "      <td>483</td>\n",
       "      <td>PESD</td>\n",
       "    </tr>\n",
       "    <tr>\n",
       "      <th>235537</th>\n",
       "      <td>PESD</td>\n",
       "      <td>2020-12-30 10:03:00</td>\n",
       "      <td>SOLD</td>\n",
       "      <td>4506</td>\n",
       "      <td>V2</td>\n",
       "      <td>1510</td>\n",
       "      <td>NaN</td>\n",
       "      <td>NaN</td>\n",
       "      <td>NaN</td>\n",
       "      <td>NaN</td>\n",
       "      <td>655210140033</td>\n",
       "      <td>NaN</td>\n",
       "      <td>TOLE4</td>\n",
       "      <td>DGRC</td>\n",
       "      <td>659</td>\n",
       "      <td>PESD</td>\n",
       "    </tr>\n",
       "  </tbody>\n",
       "</table>\n",
       "<p>229934 rows × 16 columns</p>\n",
       "</div>"
      ],
      "text/plain": [
       "        AUDI                        DECL  DPTO   ELE GVD   INC INOFFDPTO  \\\n",
       "0       CAPS  2020-01-27 09:00:00.000000   NaN  4120  V2   180       NaN   \n",
       "1       CAPS  2020-01-27 09:00:00.000000   NaN  4466  V2  1010       NaN   \n",
       "2       CAPS  2020-01-27 09:00:00.000000   NaN  4420  V2  1110       NaN   \n",
       "3       CAPS  2020-01-27 09:00:00.000000   NaN  4412  V2  1180       NaN   \n",
       "4       CAPS  2020-01-27 09:00:00.000000   NaN  4414  V2  1270       NaN   \n",
       "...      ...                         ...   ...   ...  ..   ...       ...   \n",
       "235533  PESD         2020-12-30 09:06:00  PINT  4502  V2  1000       NaN   \n",
       "235534  PESD         2020-12-30 10:03:00  SOLD  7887  V2  3220       NaN   \n",
       "235535  PESD         2020-12-30 10:03:00  MONT  5215  V2  4450       NaN   \n",
       "235536  PESD         2020-12-30 10:03:00  PINT  4401  V2  1190       NaN   \n",
       "235537  PESD         2020-12-30 10:03:00  SOLD  4506  V2  1510       NaN   \n",
       "\n",
       "       INOFFUSI   LOC MADU           PJI RETO   TALL  TIPO  UET  ZONA  \n",
       "0           NaN   NaN  NaN  655200530232  NaN    NaN   NaN  NaN   NaN  \n",
       "1           NaN   NaN  NaN  655200420197  NaN    NaN   NaN  NaN   NaN  \n",
       "2           NaN   NaN  NaN  655200450172  NaN    NaN   NaN  NaN   NaN  \n",
       "3           NaN   NaN  NaN  655200450172  NaN    NaN   NaN  NaN   NaN  \n",
       "4           NaN   NaN  NaN  655200420197  NaN    NaN   NaN  NaN   NaN  \n",
       "...         ...   ...  ...           ...  ...    ...   ...  ...   ...  \n",
       "235533      NaN  GRAL  NaN  655210140012  NaN  SERVP   ASP  DIP  PESD  \n",
       "235534      NaN   NaN  NaN  655210140033  NaN  TOLE4  GMTR  659  PESD  \n",
       "235535      NaN   K74  NaN  655210140033  NaN  CH-ME  NCON  654  PESD  \n",
       "235536      NaN   H54  NaN  655210140033  NaN  PTAL2   ASP  483  PESD  \n",
       "235537      NaN   NaN  NaN  655210140033  NaN  TOLE4  DGRC  659  PESD  \n",
       "\n",
       "[229934 rows x 16 columns]"
      ]
     },
     "execution_count": 8,
     "metadata": {
      "tags": []
     },
     "output_type": "execute_result"
    }
   ],
   "source": [
    "df"
   ]
  },
  {
   "cell_type": "markdown",
   "metadata": {
    "id": "p8A92EozjEJU"
   },
   "source": [
    "# **Missing values**\r\n",
    "Graficaremos en que columnas tenemos valores faltantes."
   ]
  },
  {
   "cell_type": "code",
   "execution_count": null,
   "metadata": {
    "id": "0onN1NVyjEJV"
   },
   "outputs": [],
   "source": [
    "import missingno as msno\n",
    "%matplotlib inline"
   ]
  },
  {
   "cell_type": "code",
   "execution_count": null,
   "metadata": {
    "colab": {
     "base_uri": "https://localhost:8080/",
     "height": 546
    },
    "executionInfo": {
     "elapsed": 9432,
     "status": "ok",
     "timestamp": 1612477661813,
     "user": {
      "displayName": "GERARDO ALEXIS COLLANTE",
      "photoUrl": "",
      "userId": "09800145111652158848"
     },
     "user_tz": 180
    },
    "id": "4ycApmHIjEJX",
    "outputId": "290443f3-5944-4faf-d2aa-ec2ab5403f7e"
   },
   "outputs": [
    {
     "data": {
      "text/plain": [
       "<matplotlib.axes._subplots.AxesSubplot at 0x7fd3986da780>"
      ]
     },
     "execution_count": 17,
     "metadata": {
      "tags": []
     },
     "output_type": "execute_result"
    },
    {
     "data": {
      "image/png": "[encoded data removed]",
      "text/plain": [
       "<Figure size 1800x720 with 2 Axes>"
      ]
     },
     "metadata": {
      "needs_background": "light",
      "tags": []
     },
     "output_type": "display_data"
    }
   ],
   "source": [
    "msno.matrix(df.drop(columns=['LOC', 'INOFFDPTO', 'INOFFUSI','MADU','RETO']))"
   ]
  },
  {
   "cell_type": "code",
   "execution_count": null,
   "metadata": {
    "colab": {
     "base_uri": "https://localhost:8080/",
     "height": 543
    },
    "executionInfo": {
     "elapsed": 10387,
     "status": "ok",
     "timestamp": 1612477663171,
     "user": {
      "displayName": "GERARDO ALEXIS COLLANTE",
      "photoUrl": "",
      "userId": "09800145111652158848"
     },
     "user_tz": 180
    },
    "id": "Ml4ss_qxjEJX",
    "outputId": "c59bc7d9-3417-4dd0-a26d-4fa020d26f4b"
   },
   "outputs": [
    {
     "data": {
      "text/plain": [
       "<matplotlib.axes._subplots.AxesSubplot at 0x7fd390681710>"
      ]
     },
     "execution_count": 18,
     "metadata": {
      "tags": []
     },
     "output_type": "execute_result"
    },
    {
     "data": {
      "image/png": "[encoded data removed]",
      "text/plain": [
       "<Figure size 1152x504 with 3 Axes>"
      ]
     },
     "metadata": {
      "needs_background": "light",
      "tags": []
     },
     "output_type": "display_data"
    }
   ],
   "source": [
    "msno.bar(df.drop(columns=['LOC', 'INOFFDPTO', 'INOFFUSI','MADU','RETO', 'ZONA']), figsize=(16,7))"
   ]
  },
  {
   "cell_type": "code",
   "execution_count": null,
   "metadata": {
    "colab": {
     "base_uri": "https://localhost:8080/",
     "height": 338
    },
    "executionInfo": {
     "elapsed": 10099,
     "status": "ok",
     "timestamp": 1612477663174,
     "user": {
      "displayName": "GERARDO ALEXIS COLLANTE",
      "photoUrl": "",
      "userId": "09800145111652158848"
     },
     "user_tz": 180
    },
    "id": "2LIfy6dUjEJZ",
    "outputId": "3c3179f0-b5f7-4b52-8a6e-0352436a15b5"
   },
   "outputs": [
    {
     "data": {
      "text/plain": [
       "<matplotlib.axes._subplots.AxesSubplot at 0x7fd38fec86a0>"
      ]
     },
     "execution_count": 19,
     "metadata": {
      "tags": []
     },
     "output_type": "execute_result"
    },
    {
     "data": {
      "image/png": "[encoded data removed]",
      "text/plain": [
       "<Figure size 432x288 with 1 Axes>"
      ]
     },
     "metadata": {
      "needs_background": "light",
      "tags": []
     },
     "output_type": "display_data"
    }
   ],
   "source": [
    "df.isna().sum().sort_values(ascending=False).plot(kind='bar')"
   ]
  },
  {
   "cell_type": "markdown",
   "metadata": {
    "id": "YBe0CeMWf3c1"
   },
   "source": [
    "## Matriz de correlación\r\n",
    "La correlación es una indicación de los cambios entre dos variables, nos es útil para seleccionar las *features* con la que entrenaremos los modelos."
   ]
  },
  {
   "cell_type": "code",
   "execution_count": null,
   "metadata": {
    "id": "nn8Ue6yvkjpe"
   },
   "outputs": [],
   "source": [
    "df.fillna({'LOC':'-'},inplace=True)"
   ]
  },
  {
   "cell_type": "code",
   "execution_count": null,
   "metadata": {
    "id": "a3Eml9b5nwa1"
   },
   "outputs": [],
   "source": [
    "corrmatrix = df.drop(columns=['RETO', 'MADU', 'DECL','PJI','TALL','DPTO']).apply(lambda x : pd.factorize(x)[0]).corr(method='pearson', min_periods=1)"
   ]
  },
  {
   "cell_type": "code",
   "execution_count": null,
   "metadata": {
    "colab": {
     "base_uri": "https://localhost:8080/",
     "height": 553
    },
    "executionInfo": {
     "elapsed": 1335,
     "status": "ok",
     "timestamp": 1612556390147,
     "user": {
      "displayName": "GERARDO ALEXIS COLLANTE",
      "photoUrl": "",
      "userId": "09800145111652158848"
     },
     "user_tz": 180
    },
    "id": "3zQ8u_YZZBxX",
    "outputId": "74b3db5a-8b5d-4cff-f4b3-d208f6bfd5b3"
   },
   "outputs": [
    {
     "data": {
      "text/plain": [
       "<matplotlib.axes._subplots.AxesSubplot at 0x7f6b1cb41860>"
      ]
     },
     "execution_count": 93,
     "metadata": {
      "tags": []
     },
     "output_type": "execute_result"
    },
    {
     "data": {
      "image/png": "[encoded data removed]",
      "text/plain": [
       "<Figure size 864x576 with 2 Axes>"
      ]
     },
     "metadata": {
      "tags": []
     },
     "output_type": "display_data"
    }
   ],
   "source": [
    "sns.heatmap(corrmatrix, annot=True, cmap='YlOrBr', fmt='.2f', linewidths=.5)"
   ]
  },
  {
   "cell_type": "markdown",
   "metadata": {
    "id": "yicjfEgJhKQ3"
   },
   "source": [
    "- Observamos que para predecir **TIPO** solo con **ELE** y **INC** sería suficiente, el resto de variables se descartan debido a que tienen naturaleza temporal o esas *features* no están disponibles.\r\n",
    "- En cambio para **UET**, también podriamos agregar **GVD** y **TIPO**."
   ]
  },
  {
   "cell_type": "markdown",
   "metadata": {
    "id": "j2-fEMznYQc_"
   },
   "source": [
    "# **Preparación del dataset**\r\n",
    "\r\n",
    "Se prepara el dataset con las *features* que alimentarán nuestro modelo para ser entrenado."
   ]
  },
  {
   "cell_type": "code",
   "execution_count": 117,
   "metadata": {
    "executionInfo": {
     "elapsed": 1869,
     "status": "ok",
     "timestamp": 1612579826980,
     "user": {
      "displayName": "GERARDO ALEXIS COLLANTE",
      "photoUrl": "",
      "userId": "09800145111652158848"
     },
     "user_tz": 180
    },
    "id": "nbfvaRUDjEJf"
   },
   "outputs": [],
   "source": [
    "target = 'UET'\r\n",
    "orig_cols = ['ELE','INC', 'LOC', target]\r\n",
    "\r\n",
    "# Dataset setup\r\n",
    "dataset = df[orig_cols].fillna({'LOC':'-'}).dropna().astype(str)\r\n",
    "\r\n",
    "# Choose if full-dataset or sample-dataset is used for model training\r\n",
    "full = True\r\n",
    "times = 40\r\n",
    "\r\n",
    "# Seed for random-state\r\n",
    "seed = 42"
   ]
  },
  {
   "cell_type": "code",
   "execution_count": 118,
   "metadata": {
    "executionInfo": {
     "elapsed": 1856,
     "status": "ok",
     "timestamp": 1612579826982,
     "user": {
      "displayName": "GERARDO ALEXIS COLLANTE",
      "photoUrl": "",
      "userId": "09800145111652158848"
     },
     "user_tz": 180
    },
    "id": "uKancMfgjEJg"
   },
   "outputs": [],
   "source": [
    "if not full:\r\n",
    "  dataset = dataset.sample(len(dataset)//times, random_state=seed)"
   ]
  },
  {
   "cell_type": "code",
   "execution_count": 119,
   "metadata": {
    "executionInfo": {
     "elapsed": 1698,
     "status": "ok",
     "timestamp": 1612579826984,
     "user": {
      "displayName": "GERARDO ALEXIS COLLANTE",
      "photoUrl": "",
      "userId": "09800145111652158848"
     },
     "user_tz": 180
    },
    "id": "9AHlZ7wFjEJi"
   },
   "outputs": [],
   "source": [
    "\n",
    "y = dataset.pop(target)\n",
    "X = dataset"
   ]
  },
  {
   "cell_type": "code",
   "execution_count": 120,
   "metadata": {
    "executionInfo": {
     "elapsed": 1534,
     "status": "ok",
     "timestamp": 1612579826985,
     "user": {
      "displayName": "GERARDO ALEXIS COLLANTE",
      "photoUrl": "",
      "userId": "09800145111652158848"
     },
     "user_tz": 180
    },
    "id": "4F2onrlFjEJj"
   },
   "outputs": [],
   "source": [
    "cols = list(X.columns)"
   ]
  },
  {
   "cell_type": "code",
   "execution_count": 121,
   "metadata": {
    "colab": {
     "base_uri": "https://localhost:8080/"
    },
    "executionInfo": {
     "elapsed": 1012,
     "status": "ok",
     "timestamp": 1612579826986,
     "user": {
      "displayName": "GERARDO ALEXIS COLLANTE",
      "photoUrl": "",
      "userId": "09800145111652158848"
     },
     "user_tz": 180
    },
    "id": "4rPGd42Oti5n",
    "outputId": "99da1db9-f7dc-4132-fda6-7b56613d7b9e"
   },
   "outputs": [
    {
     "name": "stdout",
     "output_type": "stream",
     "text": [
      "Dataset size: 228882\n"
     ]
    }
   ],
   "source": [
    "print(f\"Dataset size: {len(dataset)}\")"
   ]
  },
  {
   "cell_type": "markdown",
   "metadata": {
    "id": "eZDc3poUa4py"
   },
   "source": [
    "# **Entrenamiento de los modelos**\r\n",
    "Se seleccionaron 8 clasificadores de la librería *scikit-learn* de los cúales luego se hará validación cruzada de *k-folds* para determinar cúal es el mejor."
   ]
  },
  {
   "cell_type": "code",
   "execution_count": 122,
   "metadata": {
    "colab": {
     "base_uri": "https://localhost:8080/"
    },
    "executionInfo": {
     "elapsed": 20994,
     "status": "ok",
     "timestamp": 1612579847842,
     "user": {
      "displayName": "GERARDO ALEXIS COLLANTE",
      "photoUrl": "",
      "userId": "09800145111652158848"
     },
     "user_tz": 180
    },
    "id": "8EXwQ2ZljEJl",
    "outputId": "bb7eb535-2fe4-4cb7-c108-31684478c64f",
    "scrolled": true
   },
   "outputs": [
    {
     "name": "stdout",
     "output_type": "stream",
     "text": [
      "DecisionTreeClassifier: 0.794216 (+/- 0.002983)\n"
     ]
    }
   ],
   "source": [
    "import time\n",
    "\n",
    "n_folds = 10\n",
    "scoring = 'accuracy'\n",
    "\n",
    "np.random.seed(seed)\n",
    "\n",
    "from sklearn.compose import ColumnTransformer\n",
    "from sklearn.pipeline import Pipeline\n",
    "from sklearn.model_selection import train_test_split, GridSearchCV\n",
    "from sklearn.preprocessing import StandardScaler, OneHotEncoder\n",
    "from sklearn.linear_model import LogisticRegression, SGDClassifier, RidgeClassifier\n",
    "from sklearn.neighbors import KNeighborsClassifier\n",
    "from sklearn.neural_network import MLPClassifier\n",
    "from sklearn.svm import SVC\n",
    "from sklearn.tree import DecisionTreeClassifier\n",
    "from sklearn.ensemble import RandomForestClassifier, BaggingClassifier, ExtraTreesClassifier\n",
    "from xgboost import XGBClassifier\n",
    "from sklearn.model_selection import KFold, cross_val_score\n",
    "\n",
    "# Preprocessors\n",
    "categorical_features = cols\n",
    "categorical_transformer = OneHotEncoder(handle_unknown='ignore')\n",
    "\n",
    "preprocessor = ColumnTransformer(\n",
    "    transformers=[\n",
    "        ('cat', categorical_transformer, categorical_features)])\n",
    "\n",
    "# Estimators\n",
    "classifiers = [\n",
    "    #KNeighborsClassifier(),\n",
    "    #SGDClassifier(),\n",
    "    #RidgeClassifier(),\n",
    "    #LogisticRegression(),\n",
    "    #SVC(kernel=\"linear\", C=0.025),\n",
    "    #SVC(gamma=2, C=1),\n",
    "    #XGBClassifier(),\n",
    "    DecisionTreeClassifier(),\n",
    "    #RandomForestClassifier(),\n",
    "    #BaggingClassifier(),\n",
    "    #SVC(),\n",
    "    #MLPClassifier(),\n",
    "    ]\n",
    "\n",
    "X_train, X_test, y_train, y_test = train_test_split(X, y, test_size=0.2,\n",
    "                                                    random_state=seed)\n",
    "\n",
    "clfs = []\n",
    "names = []\n",
    "results = []\n",
    "times = []\n",
    "\n",
    "# Append classifier to preprocessing pipeline.\n",
    "# Now we have a full prediction pipeline.\n",
    "for classifier in classifiers:\n",
    "  # Compute start time\n",
    "  start = time.time()\n",
    "\n",
    "  #Create pipeline\n",
    "  clf = Pipeline(steps=[('preprocessor', preprocessor),\n",
    "                    ('classifier', classifier)])\n",
    "  \n",
    "  clf.fit(X_train, y_train)\n",
    "\n",
    "  # Add classifier to list of classifiers\n",
    "  clfs.append(clf)\n",
    "\n",
    "  # Compute finish time\n",
    "  total_time=(time.time()-start)\n",
    "  times.append(total_time)\n",
    "\n",
    "  # Classifier name\n",
    "  name = classifier.__class__.__name__\n",
    "  names.append(name)\n",
    "\n",
    "  # Compute results of model\n",
    "  kfold = KFold(n_splits=n_folds, shuffle=True, random_state=seed)\n",
    "  cv_results = cross_val_score(clf, X_train, y_train, \n",
    "                                cv= kfold, scoring=scoring,\n",
    "                                n_jobs=-1)\n",
    "  results.append(cv_results)\n",
    "  \n",
    "  msg = \"%s: %f (+/- %f)\" % (name, cv_results.mean(),  cv_results.std())\n",
    "  print(msg)"
   ]
  },
  {
   "cell_type": "code",
   "execution_count": 102,
   "metadata": {
    "executionInfo": {
     "elapsed": 33421,
     "status": "ok",
     "timestamp": 1612578736145,
     "user": {
      "displayName": "GERARDO ALEXIS COLLANTE",
      "photoUrl": "",
      "userId": "09800145111652158848"
     },
     "user_tz": 180
    },
    "id": "Zxrgh1s_GwJW"
   },
   "outputs": [],
   "source": [
    "import re\r\n",
    "\r\n",
    "acronames = []\r\n",
    "\r\n",
    "# Get uppercase for acronyms of classifiers\r\n",
    "for classifier in classifiers:\r\n",
    "  acroname = re.sub('[^A-Z]', '', str(classifier))\r\n",
    "  acronames.append(acroname)"
   ]
  },
  {
   "cell_type": "code",
   "execution_count": 75,
   "metadata": {
    "executionInfo": {
     "elapsed": 4104089,
     "status": "ok",
     "timestamp": 1612573575825,
     "user": {
      "displayName": "GERARDO ALEXIS COLLANTE",
      "photoUrl": "",
      "userId": "09800145111652158848"
     },
     "user_tz": 180
    },
    "id": "hGT2EQ2fDDxl"
   },
   "outputs": [],
   "source": [
    "# DataFrame for plotting\r\n",
    "\r\n",
    "perfdf = pd.DataFrame(np.array(results)[:,0], index=acronames, columns=['perf'])\r\n",
    "timesdf = pd.DataFrame(times, index=acronames, columns=['times'])\r\n",
    "pltdf = timesdf.join(perfdf)\r\n",
    "pltdf['perfpertime'] = pltdf.perf / pltdf.times"
   ]
  },
  {
   "cell_type": "code",
   "execution_count": 76,
   "metadata": {
    "executionInfo": {
     "elapsed": 4103623,
     "status": "ok",
     "timestamp": 1612573575827,
     "user": {
      "displayName": "GERARDO ALEXIS COLLANTE",
      "photoUrl": "",
      "userId": "09800145111652158848"
     },
     "user_tz": 180
    },
    "id": "P7IVhYLRxCbv"
   },
   "outputs": [],
   "source": [
    "# Save results\n",
    "pltdf.to_csv(f'{target}.csv')"
   ]
  },
  {
   "cell_type": "markdown",
   "metadata": {
    "id": "ZMVJ6ZUuQ5Vj"
   },
   "source": [
    "## Plot tiempo de ejecución vs performance\n",
    "Gráfico de barras con doble eje-y para comparar y obtener el mejor clasificador con el menor tiempo de entrenamiento."
   ]
  },
  {
   "cell_type": "code",
   "execution_count": 83,
   "metadata": {
    "colab": {
     "base_uri": "https://localhost:8080/",
     "height": 519
    },
    "executionInfo": {
     "elapsed": 1628,
     "status": "ok",
     "timestamp": 1612577409801,
     "user": {
      "displayName": "GERARDO ALEXIS COLLANTE",
      "photoUrl": "",
      "userId": "09800145111652158848"
     },
     "user_tz": 180
    },
    "id": "JWuVN8_UKKcG",
    "outputId": "8531b900-de2a-491c-a351-04440eb97c00"
   },
   "outputs": [
    {
     "data": {
      "text/plain": [
       "Text(0, 0.5, 'performance')"
      ]
     },
     "execution_count": 83,
     "metadata": {
      "tags": []
     },
     "output_type": "execute_result"
    },
    {
     "data": {
      "image/png": "[encoded data removed]",
      "text/plain": [
       "<Figure size 864x576 with 2 Axes>"
      ]
     },
     "metadata": {
      "tags": []
     },
     "output_type": "display_data"
    }
   ],
   "source": [
    "fig = plt.figure() # Create matplotlib figure\r\n",
    "\r\n",
    "ax = fig.add_subplot(111) # Create matplotlib axes\r\n",
    "ax2 = ax.twinx() # Create another axes that shares the same x-axis as ax.\r\n",
    "\r\n",
    "width = 0.2\r\n",
    "\r\n",
    "pltdf.times.plot(kind='bar', color='red', ax=ax, width=width, position=1, grid=True, figsize=(12,8))\r\n",
    "pltdf.perf.plot(kind='bar', color='blue', ax=ax2, width=width, position=0, grid=False)\r\n",
    "\r\n",
    "ax.set_ylabel('seconds')\r\n",
    "ax2.set_ylabel('performance')"
   ]
  },
  {
   "cell_type": "markdown",
   "metadata": {
    "id": "xx115ivt5HPe"
   },
   "source": [
    "## Plot rendimiento del modelo\n",
    "Diagrama de cajas representativo de la validación cruzada de *k-folds*, útil para decidir cúal es el mejor modelo."
   ]
  },
  {
   "cell_type": "code",
   "execution_count": 78,
   "metadata": {
    "colab": {
     "base_uri": "https://localhost:8080/",
     "height": 537
    },
    "executionInfo": {
     "elapsed": 4101896,
     "status": "ok",
     "timestamp": 1612573576633,
     "user": {
      "displayName": "GERARDO ALEXIS COLLANTE",
      "photoUrl": "",
      "userId": "09800145111652158848"
     },
     "user_tz": 180
    },
    "id": "31uu71XtjNjq",
    "outputId": "b6f4a698-1a30-47f1-e042-19cd7748d0eb"
   },
   "outputs": [
    {
     "data": {
      "image/png": "[encoded data removed]",
      "text/plain": [
       "<Figure size 864x576 with 1 Axes>"
      ]
     },
     "metadata": {
      "tags": []
     },
     "output_type": "display_data"
    }
   ],
   "source": [
    "plt.style.use('seaborn-whitegrid')\n",
    "plt.rcParams[\"figure.figsize\"] = (12,8)\n",
    "\n",
    "# figure related code\n",
    "fig = plt.figure()\n",
    "fig.suptitle(f'Model performance for {target}', fontsize=14, fontweight='bold')\n",
    "\n",
    "ax = fig.add_subplot(111)\n",
    "ax.boxplot(x=results, labels=acronames)\n",
    "\n",
    "plt.show()"
   ]
  },
  {
   "cell_type": "markdown",
   "metadata": {
    "id": "u5XESi8k4L8R"
   },
   "source": [
    "## Guardar modelos\n",
    "Una vez entrenados los modelos se procede a guardarlos para no tener que reentrenarlos. También se guarda el mejor modelo."
   ]
  },
  {
   "cell_type": "code",
   "execution_count": 79,
   "metadata": {
    "executionInfo": {
     "elapsed": 4099921,
     "status": "ok",
     "timestamp": 1612573576634,
     "user": {
      "displayName": "GERARDO ALEXIS COLLANTE",
      "photoUrl": "",
      "userId": "09800145111652158848"
     },
     "user_tz": 180
    },
    "id": "CRK1Ul6Gxhtn"
   },
   "outputs": [],
   "source": [
    "def best_model(results):\r\n",
    "  first_col = np.array(results)[:,0]\r\n",
    "  index = np.argmax(first_col)\r\n",
    "  return index"
   ]
  },
  {
   "cell_type": "code",
   "execution_count": 80,
   "metadata": {
    "executionInfo": {
     "elapsed": 4099518,
     "status": "ok",
     "timestamp": 1612573576636,
     "user": {
      "displayName": "GERARDO ALEXIS COLLANTE",
      "photoUrl": "",
      "userId": "09800145111652158848"
     },
     "user_tz": 180
    },
    "id": "TvREgATk5fQN"
   },
   "outputs": [],
   "source": [
    "from joblib import dump, load"
   ]
  },
  {
   "cell_type": "code",
   "execution_count": 81,
   "metadata": {
    "colab": {
     "base_uri": "https://localhost:8080/"
    },
    "executionInfo": {
     "elapsed": 4138839,
     "status": "ok",
     "timestamp": 1612573616982,
     "user": {
      "displayName": "GERARDO ALEXIS COLLANTE",
      "photoUrl": "",
      "userId": "09800145111652158848"
     },
     "user_tz": 180
    },
    "id": "achttawwvVOz",
    "outputId": "a8d68ab6-8c67-40b9-b795-1f35a94b0101"
   },
   "outputs": [
    {
     "name": "stdout",
     "output_type": "stream",
     "text": [
      "Models saved [OK]\n",
      "Best model saved [OK]\n"
     ]
    }
   ],
   "source": [
    "# Paths\r\n",
    "models_path = os.path.join(MODELS, f'models_{target}.joblib')\r\n",
    "bestmodel_path = os.path.join(MODELS, f'bestmodel_{target}.joblib')\r\n",
    "\r\n",
    "# Save all models\r\n",
    "dump(clfs, models_path)\r\n",
    "print('Models saved [OK]')\r\n",
    "\r\n",
    "# Save best model\r\n",
    "best_clf = clfs[best_model(results)]\r\n",
    "dump(best_clf, bestmodel_path)\r\n",
    "print('Best model saved [OK]')"
   ]
  },
  {
   "cell_type": "code",
   "execution_count": 82,
   "metadata": {
    "colab": {
     "base_uri": "https://localhost:8080/",
     "height": 300
    },
    "executionInfo": {
     "elapsed": 1271,
     "status": "ok",
     "timestamp": 1612576152293,
     "user": {
      "displayName": "GERARDO ALEXIS COLLANTE",
      "photoUrl": "",
      "userId": "09800145111652158848"
     },
     "user_tz": 180
    },
    "id": "xr559ecApLMy",
    "outputId": "74298f5a-84d5-4cf5-b207-fc397a80bf01"
   },
   "outputs": [
    {
     "data": {
      "text/html": [
       "<div>\n",
       "<style scoped>\n",
       "    .dataframe tbody tr th:only-of-type {\n",
       "        vertical-align: middle;\n",
       "    }\n",
       "\n",
       "    .dataframe tbody tr th {\n",
       "        vertical-align: top;\n",
       "    }\n",
       "\n",
       "    .dataframe thead th {\n",
       "        text-align: right;\n",
       "    }\n",
       "</style>\n",
       "<table border=\"1\" class=\"dataframe\">\n",
       "  <thead>\n",
       "    <tr style=\"text-align: right;\">\n",
       "      <th></th>\n",
       "      <th>times</th>\n",
       "      <th>perf</th>\n",
       "      <th>perfpertime</th>\n",
       "    </tr>\n",
       "  </thead>\n",
       "  <tbody>\n",
       "    <tr>\n",
       "      <th>KNC</th>\n",
       "      <td>0.423867</td>\n",
       "      <td>0.764459</td>\n",
       "      <td>1.803536</td>\n",
       "    </tr>\n",
       "    <tr>\n",
       "      <th>SGDC</th>\n",
       "      <td>6.013939</td>\n",
       "      <td>0.733876</td>\n",
       "      <td>0.122029</td>\n",
       "    </tr>\n",
       "    <tr>\n",
       "      <th>RC</th>\n",
       "      <td>19.452225</td>\n",
       "      <td>0.685435</td>\n",
       "      <td>0.035237</td>\n",
       "    </tr>\n",
       "    <tr>\n",
       "      <th>LR</th>\n",
       "      <td>74.984729</td>\n",
       "      <td>0.748839</td>\n",
       "      <td>0.009987</td>\n",
       "    </tr>\n",
       "    <tr>\n",
       "      <th>XGBC</th>\n",
       "      <td>193.920632</td>\n",
       "      <td>0.735241</td>\n",
       "      <td>0.003791</td>\n",
       "    </tr>\n",
       "    <tr>\n",
       "      <th>DTC</th>\n",
       "      <td>2.288291</td>\n",
       "      <td>0.795970</td>\n",
       "      <td>0.347845</td>\n",
       "    </tr>\n",
       "    <tr>\n",
       "      <th>RFC</th>\n",
       "      <td>157.461613</td>\n",
       "      <td>0.797444</td>\n",
       "      <td>0.005064</td>\n",
       "    </tr>\n",
       "    <tr>\n",
       "      <th>BC</th>\n",
       "      <td>22.361360</td>\n",
       "      <td>0.796133</td>\n",
       "      <td>0.035603</td>\n",
       "    </tr>\n",
       "  </tbody>\n",
       "</table>\n",
       "</div>"
      ],
      "text/plain": [
       "           times      perf  perfpertime\n",
       "KNC     0.423867  0.764459     1.803536\n",
       "SGDC    6.013939  0.733876     0.122029\n",
       "RC     19.452225  0.685435     0.035237\n",
       "LR     74.984729  0.748839     0.009987\n",
       "XGBC  193.920632  0.735241     0.003791\n",
       "DTC     2.288291  0.795970     0.347845\n",
       "RFC   157.461613  0.797444     0.005064\n",
       "BC     22.361360  0.796133     0.035603"
      ]
     },
     "execution_count": 82,
     "metadata": {
      "tags": []
     },
     "output_type": "execute_result"
    }
   ],
   "source": [
    "pltdf"
   ]
  },
  {
   "cell_type": "markdown",
   "metadata": {
    "id": "W9Uk3Ion_vqU"
   },
   "source": [
    "# Carga de modelos\n",
    "A partir de este punto si los modelos ya han sido entrenados pueden ser cargados directamente."
   ]
  },
  {
   "cell_type": "code",
   "execution_count": 128,
   "metadata": {
    "executionInfo": {
     "elapsed": 808,
     "status": "ok",
     "timestamp": 1612580438357,
     "user": {
      "displayName": "GERARDO ALEXIS COLLANTE",
      "photoUrl": "",
      "userId": "09800145111652158848"
     },
     "user_tz": 180
    },
    "id": "iiiPa6EA5YHC"
   },
   "outputs": [],
   "source": [
    "from joblib import load\r\n",
    "import os\r\n",
    "MODELS = 'models/'\r\n",
    "target = 'TIPO'\r\n",
    "\r\n",
    "# Paths\r\n",
    "models_path = os.path.join(MODELS, f'models_{target}.joblib')\r\n",
    "bestmodel_path = os.path.join(MODELS, f'bestmodel_{target}.joblib')\r\n",
    "\r\n",
    "#clfs = load(models_path)\r\n",
    "best_clf = load(bestmodel_path) "
   ]
  },
  {
   "cell_type": "markdown",
   "metadata": {
    "id": "wsd7n8A__8ls"
   },
   "source": [
    "# **Imputation TIPO**\n",
    "Se imputa la feature en el *df*."
   ]
  },
  {
   "cell_type": "code",
   "execution_count": 129,
   "metadata": {
    "executionInfo": {
     "elapsed": 1002,
     "status": "ok",
     "timestamp": 1612580443602,
     "user": {
      "displayName": "GERARDO ALEXIS COLLANTE",
      "photoUrl": "",
      "userId": "09800145111652158848"
     },
     "user_tz": 180
    },
    "id": "zloJHQBAmiV1"
   },
   "outputs": [],
   "source": [
    "cols = ['ELE','INC']"
   ]
  },
  {
   "cell_type": "code",
   "execution_count": 130,
   "metadata": {
    "executionInfo": {
     "elapsed": 1204,
     "status": "ok",
     "timestamp": 1612580444137,
     "user": {
      "displayName": "GERARDO ALEXIS COLLANTE",
      "photoUrl": "",
      "userId": "09800145111652158848"
     },
     "user_tz": 180
    },
    "id": "9CJk_PIhjEJp"
   },
   "outputs": [],
   "source": [
    "#prueba = df[df[target].isna()].sample(30)[cols]\r\n",
    "#prueba = prueba.fillna({'LOC':'-'}).dropna().astype(str)\r\n",
    "#(X_train.iloc[0]).to_frame().transpose()\r\n",
    "#best_clf.predict((X_train.iloc[0]).to_frame().transpose())\r\n",
    "#prueba.iloc[0].to_frame().transpose()\r\n",
    "#test = df[orig_cols].fillna({'LOC':'-'}).astype(str).replace('nan', np.nan)\r\n",
    "#test"
   ]
  },
  {
   "cell_type": "code",
   "execution_count": 131,
   "metadata": {
    "executionInfo": {
     "elapsed": 1012,
     "status": "ok",
     "timestamp": 1612580444467,
     "user": {
      "displayName": "GERARDO ALEXIS COLLANTE",
      "photoUrl": "",
      "userId": "09800145111652158848"
     },
     "user_tz": 180
    },
    "id": "5xIMgNrFBwDn"
   },
   "outputs": [],
   "source": [
    "def predict(row, clf):\r\n",
    "  # Check if target is null.\r\n",
    "  # If true then predict. Else return original\r\n",
    "  if pd.isnull(row[target]):\r\n",
    "    prediction = clf.predict(row[cols].to_frame().transpose())\r\n",
    "    return ''.join(prediction)\r\n",
    "  else:\r\n",
    "    return row[target]"
   ]
  },
  {
   "cell_type": "code",
   "execution_count": 134,
   "metadata": {
    "executionInfo": {
     "elapsed": 3376,
     "status": "ok",
     "timestamp": 1612580471857,
     "user": {
      "displayName": "GERARDO ALEXIS COLLANTE",
      "photoUrl": "",
      "userId": "09800145111652158848"
     },
     "user_tz": 180
    },
    "id": "w5rsvZQpGziC"
   },
   "outputs": [],
   "source": [
    "df[target] = df.apply(lambda row: predict(row, best_clf), axis=1)"
   ]
  },
  {
   "cell_type": "code",
   "execution_count": 135,
   "metadata": {
    "colab": {
     "base_uri": "https://localhost:8080/",
     "height": 206
    },
    "executionInfo": {
     "elapsed": 739,
     "status": "ok",
     "timestamp": 1612580473374,
     "user": {
      "displayName": "GERARDO ALEXIS COLLANTE",
      "photoUrl": "",
      "userId": "09800145111652158848"
     },
     "user_tz": 180
    },
    "id": "c207ewb6SP7g",
    "outputId": "ab64c284-ea4f-47ce-b86f-634e17b374a8"
   },
   "outputs": [
    {
     "data": {
      "text/html": [
       "<div>\n",
       "<style scoped>\n",
       "    .dataframe tbody tr th:only-of-type {\n",
       "        vertical-align: middle;\n",
       "    }\n",
       "\n",
       "    .dataframe tbody tr th {\n",
       "        vertical-align: top;\n",
       "    }\n",
       "\n",
       "    .dataframe thead th {\n",
       "        text-align: right;\n",
       "    }\n",
       "</style>\n",
       "<table border=\"1\" class=\"dataframe\">\n",
       "  <thead>\n",
       "    <tr style=\"text-align: right;\">\n",
       "      <th></th>\n",
       "      <th>AUDI</th>\n",
       "      <th>DECL</th>\n",
       "      <th>DPTO</th>\n",
       "      <th>ELE</th>\n",
       "      <th>GVD</th>\n",
       "      <th>INC</th>\n",
       "      <th>INOFFDPTO</th>\n",
       "      <th>INOFFUSI</th>\n",
       "      <th>LOC</th>\n",
       "      <th>MADU</th>\n",
       "      <th>PJI</th>\n",
       "      <th>RETO</th>\n",
       "      <th>TALL</th>\n",
       "      <th>TIPO</th>\n",
       "      <th>UET</th>\n",
       "      <th>ZONA</th>\n",
       "    </tr>\n",
       "  </thead>\n",
       "  <tbody>\n",
       "    <tr>\n",
       "      <th>0</th>\n",
       "      <td>CAPS</td>\n",
       "      <td>2020-01-27 09:00:00.000000</td>\n",
       "      <td>NaN</td>\n",
       "      <td>4120</td>\n",
       "      <td>V2</td>\n",
       "      <td>180</td>\n",
       "      <td>NaN</td>\n",
       "      <td>NaN</td>\n",
       "      <td>NaN</td>\n",
       "      <td>NaN</td>\n",
       "      <td>655200530232</td>\n",
       "      <td>NaN</td>\n",
       "      <td>NaN</td>\n",
       "      <td>MOP</td>\n",
       "      <td>NaN</td>\n",
       "      <td>NaN</td>\n",
       "    </tr>\n",
       "    <tr>\n",
       "      <th>1</th>\n",
       "      <td>CAPS</td>\n",
       "      <td>2020-01-27 09:00:00.000000</td>\n",
       "      <td>NaN</td>\n",
       "      <td>4466</td>\n",
       "      <td>V2</td>\n",
       "      <td>1010</td>\n",
       "      <td>NaN</td>\n",
       "      <td>NaN</td>\n",
       "      <td>NaN</td>\n",
       "      <td>NaN</td>\n",
       "      <td>655200420197</td>\n",
       "      <td>NaN</td>\n",
       "      <td>NaN</td>\n",
       "      <td>MOP</td>\n",
       "      <td>NaN</td>\n",
       "      <td>NaN</td>\n",
       "    </tr>\n",
       "    <tr>\n",
       "      <th>2</th>\n",
       "      <td>CAPS</td>\n",
       "      <td>2020-01-27 09:00:00.000000</td>\n",
       "      <td>NaN</td>\n",
       "      <td>4420</td>\n",
       "      <td>V2</td>\n",
       "      <td>1110</td>\n",
       "      <td>NaN</td>\n",
       "      <td>NaN</td>\n",
       "      <td>NaN</td>\n",
       "      <td>NaN</td>\n",
       "      <td>655200450172</td>\n",
       "      <td>NaN</td>\n",
       "      <td>NaN</td>\n",
       "      <td>ASP</td>\n",
       "      <td>NaN</td>\n",
       "      <td>NaN</td>\n",
       "    </tr>\n",
       "    <tr>\n",
       "      <th>3</th>\n",
       "      <td>CAPS</td>\n",
       "      <td>2020-01-27 09:00:00.000000</td>\n",
       "      <td>NaN</td>\n",
       "      <td>4412</td>\n",
       "      <td>V2</td>\n",
       "      <td>1180</td>\n",
       "      <td>NaN</td>\n",
       "      <td>NaN</td>\n",
       "      <td>NaN</td>\n",
       "      <td>NaN</td>\n",
       "      <td>655200450172</td>\n",
       "      <td>NaN</td>\n",
       "      <td>NaN</td>\n",
       "      <td>ASP</td>\n",
       "      <td>NaN</td>\n",
       "      <td>NaN</td>\n",
       "    </tr>\n",
       "    <tr>\n",
       "      <th>4</th>\n",
       "      <td>CAPS</td>\n",
       "      <td>2020-01-27 09:00:00.000000</td>\n",
       "      <td>NaN</td>\n",
       "      <td>4414</td>\n",
       "      <td>V2</td>\n",
       "      <td>1270</td>\n",
       "      <td>NaN</td>\n",
       "      <td>NaN</td>\n",
       "      <td>NaN</td>\n",
       "      <td>NaN</td>\n",
       "      <td>655200420197</td>\n",
       "      <td>NaN</td>\n",
       "      <td>NaN</td>\n",
       "      <td>ASP</td>\n",
       "      <td>NaN</td>\n",
       "      <td>NaN</td>\n",
       "    </tr>\n",
       "  </tbody>\n",
       "</table>\n",
       "</div>"
      ],
      "text/plain": [
       "   AUDI                        DECL DPTO   ELE GVD   INC INOFFDPTO INOFFUSI  \\\n",
       "0  CAPS  2020-01-27 09:00:00.000000  NaN  4120  V2   180       NaN      NaN   \n",
       "1  CAPS  2020-01-27 09:00:00.000000  NaN  4466  V2  1010       NaN      NaN   \n",
       "2  CAPS  2020-01-27 09:00:00.000000  NaN  4420  V2  1110       NaN      NaN   \n",
       "3  CAPS  2020-01-27 09:00:00.000000  NaN  4412  V2  1180       NaN      NaN   \n",
       "4  CAPS  2020-01-27 09:00:00.000000  NaN  4414  V2  1270       NaN      NaN   \n",
       "\n",
       "   LOC MADU           PJI RETO TALL TIPO  UET ZONA  \n",
       "0  NaN  NaN  655200530232  NaN  NaN  MOP  NaN  NaN  \n",
       "1  NaN  NaN  655200420197  NaN  NaN  MOP  NaN  NaN  \n",
       "2  NaN  NaN  655200450172  NaN  NaN  ASP  NaN  NaN  \n",
       "3  NaN  NaN  655200450172  NaN  NaN  ASP  NaN  NaN  \n",
       "4  NaN  NaN  655200420197  NaN  NaN  ASP  NaN  NaN  "
      ]
     },
     "execution_count": 135,
     "metadata": {
      "tags": []
     },
     "output_type": "execute_result"
    }
   ],
   "source": [
    "df.head()"
   ]
  },
  {
   "cell_type": "markdown",
   "metadata": {
    "id": "i_5tvZxYnai0"
   },
   "source": [
    "## **Imputacion UET**"
   ]
  },
  {
   "cell_type": "code",
   "execution_count": 138,
   "metadata": {
    "executionInfo": {
     "elapsed": 3363,
     "status": "ok",
     "timestamp": 1612580814854,
     "user": {
      "displayName": "GERARDO ALEXIS COLLANTE",
      "photoUrl": "",
      "userId": "09800145111652158848"
     },
     "user_tz": 180
    },
    "id": "AzPTt4fATTWh"
   },
   "outputs": [],
   "source": [
    "from joblib import load\n",
    "import os\n",
    "MODELS = 'models/'\n",
    "target = 'UET'\n",
    "\n",
    "# Paths\n",
    "models_path = os.path.join(MODELS, f'models_{target}.joblib')\n",
    "bestmodel_path = os.path.join(MODELS, f'bestmodel_{target}.joblib')\n",
    "\n",
    "#clfs = load(models_path)\n",
    "best_clf = load(bestmodel_path) "
   ]
  },
  {
   "cell_type": "code",
   "execution_count": 139,
   "metadata": {
    "executionInfo": {
     "elapsed": 1899,
     "status": "ok",
     "timestamp": 1612580814857,
     "user": {
      "displayName": "GERARDO ALEXIS COLLANTE",
      "photoUrl": "",
      "userId": "09800145111652158848"
     },
     "user_tz": 180
    },
    "id": "CDcLo2uRnXnt"
   },
   "outputs": [],
   "source": [
    "cols = ['ELE','INC','LOC']\r\n",
    "target = 'UET'"
   ]
  },
  {
   "cell_type": "code",
   "execution_count": 141,
   "metadata": {
    "colab": {
     "base_uri": "https://localhost:8080/",
     "height": 206
    },
    "executionInfo": {
     "elapsed": 1345,
     "status": "ok",
     "timestamp": 1612580858191,
     "user": {
      "displayName": "GERARDO ALEXIS COLLANTE",
      "photoUrl": "",
      "userId": "09800145111652158848"
     },
     "user_tz": 180
    },
    "id": "8md5eXtTnXnv",
    "outputId": "5719ede8-1a9b-4796-9dbd-dad607476935"
   },
   "outputs": [
    {
     "data": {
      "text/html": [
       "<div>\n",
       "<style scoped>\n",
       "    .dataframe tbody tr th:only-of-type {\n",
       "        vertical-align: middle;\n",
       "    }\n",
       "\n",
       "    .dataframe tbody tr th {\n",
       "        vertical-align: top;\n",
       "    }\n",
       "\n",
       "    .dataframe thead th {\n",
       "        text-align: right;\n",
       "    }\n",
       "</style>\n",
       "<table border=\"1\" class=\"dataframe\">\n",
       "  <thead>\n",
       "    <tr style=\"text-align: right;\">\n",
       "      <th></th>\n",
       "      <th>AUDI</th>\n",
       "      <th>DECL</th>\n",
       "      <th>DPTO</th>\n",
       "      <th>ELE</th>\n",
       "      <th>GVD</th>\n",
       "      <th>INC</th>\n",
       "      <th>INOFFDPTO</th>\n",
       "      <th>INOFFUSI</th>\n",
       "      <th>LOC</th>\n",
       "      <th>MADU</th>\n",
       "      <th>PJI</th>\n",
       "      <th>RETO</th>\n",
       "      <th>TALL</th>\n",
       "      <th>TIPO</th>\n",
       "      <th>UET</th>\n",
       "      <th>ZONA</th>\n",
       "    </tr>\n",
       "  </thead>\n",
       "  <tbody>\n",
       "    <tr>\n",
       "      <th>0</th>\n",
       "      <td>CAPS</td>\n",
       "      <td>2020-01-27 09:00:00.000000</td>\n",
       "      <td>NaN</td>\n",
       "      <td>4120</td>\n",
       "      <td>V2</td>\n",
       "      <td>180</td>\n",
       "      <td>NaN</td>\n",
       "      <td>NaN</td>\n",
       "      <td>-</td>\n",
       "      <td>NaN</td>\n",
       "      <td>655200530232</td>\n",
       "      <td>NaN</td>\n",
       "      <td>NaN</td>\n",
       "      <td>MOP</td>\n",
       "      <td>NaN</td>\n",
       "      <td>NaN</td>\n",
       "    </tr>\n",
       "    <tr>\n",
       "      <th>1</th>\n",
       "      <td>CAPS</td>\n",
       "      <td>2020-01-27 09:00:00.000000</td>\n",
       "      <td>NaN</td>\n",
       "      <td>4466</td>\n",
       "      <td>V2</td>\n",
       "      <td>1010</td>\n",
       "      <td>NaN</td>\n",
       "      <td>NaN</td>\n",
       "      <td>-</td>\n",
       "      <td>NaN</td>\n",
       "      <td>655200420197</td>\n",
       "      <td>NaN</td>\n",
       "      <td>NaN</td>\n",
       "      <td>MOP</td>\n",
       "      <td>NaN</td>\n",
       "      <td>NaN</td>\n",
       "    </tr>\n",
       "    <tr>\n",
       "      <th>2</th>\n",
       "      <td>CAPS</td>\n",
       "      <td>2020-01-27 09:00:00.000000</td>\n",
       "      <td>NaN</td>\n",
       "      <td>4420</td>\n",
       "      <td>V2</td>\n",
       "      <td>1110</td>\n",
       "      <td>NaN</td>\n",
       "      <td>NaN</td>\n",
       "      <td>-</td>\n",
       "      <td>NaN</td>\n",
       "      <td>655200450172</td>\n",
       "      <td>NaN</td>\n",
       "      <td>NaN</td>\n",
       "      <td>ASP</td>\n",
       "      <td>NaN</td>\n",
       "      <td>NaN</td>\n",
       "    </tr>\n",
       "    <tr>\n",
       "      <th>3</th>\n",
       "      <td>CAPS</td>\n",
       "      <td>2020-01-27 09:00:00.000000</td>\n",
       "      <td>NaN</td>\n",
       "      <td>4412</td>\n",
       "      <td>V2</td>\n",
       "      <td>1180</td>\n",
       "      <td>NaN</td>\n",
       "      <td>NaN</td>\n",
       "      <td>-</td>\n",
       "      <td>NaN</td>\n",
       "      <td>655200450172</td>\n",
       "      <td>NaN</td>\n",
       "      <td>NaN</td>\n",
       "      <td>ASP</td>\n",
       "      <td>NaN</td>\n",
       "      <td>NaN</td>\n",
       "    </tr>\n",
       "    <tr>\n",
       "      <th>4</th>\n",
       "      <td>CAPS</td>\n",
       "      <td>2020-01-27 09:00:00.000000</td>\n",
       "      <td>NaN</td>\n",
       "      <td>4414</td>\n",
       "      <td>V2</td>\n",
       "      <td>1270</td>\n",
       "      <td>NaN</td>\n",
       "      <td>NaN</td>\n",
       "      <td>-</td>\n",
       "      <td>NaN</td>\n",
       "      <td>655200420197</td>\n",
       "      <td>NaN</td>\n",
       "      <td>NaN</td>\n",
       "      <td>ASP</td>\n",
       "      <td>NaN</td>\n",
       "      <td>NaN</td>\n",
       "    </tr>\n",
       "  </tbody>\n",
       "</table>\n",
       "</div>"
      ],
      "text/plain": [
       "   AUDI                        DECL DPTO   ELE GVD   INC INOFFDPTO INOFFUSI  \\\n",
       "0  CAPS  2020-01-27 09:00:00.000000  NaN  4120  V2   180       NaN      NaN   \n",
       "1  CAPS  2020-01-27 09:00:00.000000  NaN  4466  V2  1010       NaN      NaN   \n",
       "2  CAPS  2020-01-27 09:00:00.000000  NaN  4420  V2  1110       NaN      NaN   \n",
       "3  CAPS  2020-01-27 09:00:00.000000  NaN  4412  V2  1180       NaN      NaN   \n",
       "4  CAPS  2020-01-27 09:00:00.000000  NaN  4414  V2  1270       NaN      NaN   \n",
       "\n",
       "  LOC MADU           PJI RETO TALL TIPO  UET ZONA  \n",
       "0   -  NaN  655200530232  NaN  NaN  MOP  NaN  NaN  \n",
       "1   -  NaN  655200420197  NaN  NaN  MOP  NaN  NaN  \n",
       "2   -  NaN  655200450172  NaN  NaN  ASP  NaN  NaN  \n",
       "3   -  NaN  655200450172  NaN  NaN  ASP  NaN  NaN  \n",
       "4   -  NaN  655200420197  NaN  NaN  ASP  NaN  NaN  "
      ]
     },
     "execution_count": 141,
     "metadata": {
      "tags": []
     },
     "output_type": "execute_result"
    }
   ],
   "source": [
    "df = df.fillna({'LOC':'-'}).astype(str).replace('nan', np.nan)\r\n",
    "df.head()"
   ]
  },
  {
   "cell_type": "code",
   "execution_count": 142,
   "metadata": {
    "executionInfo": {
     "elapsed": 18086,
     "status": "ok",
     "timestamp": 1612580892437,
     "user": {
      "displayName": "GERARDO ALEXIS COLLANTE",
      "photoUrl": "",
      "userId": "09800145111652158848"
     },
     "user_tz": 180
    },
    "id": "9X9BMfFtnXnx"
   },
   "outputs": [],
   "source": [
    "df[target] = df.apply(lambda row: predict(row, best_clf), axis=1)"
   ]
  },
  {
   "cell_type": "code",
   "execution_count": 143,
   "metadata": {
    "colab": {
     "base_uri": "https://localhost:8080/",
     "height": 206
    },
    "executionInfo": {
     "elapsed": 895,
     "status": "ok",
     "timestamp": 1612580893343,
     "user": {
      "displayName": "GERARDO ALEXIS COLLANTE",
      "photoUrl": "",
      "userId": "09800145111652158848"
     },
     "user_tz": 180
    },
    "id": "TssQ-lejT4Co",
    "outputId": "c25bf8db-7bc6-4e35-fe7a-578f8aca22a3"
   },
   "outputs": [
    {
     "data": {
      "text/html": [
       "<div>\n",
       "<style scoped>\n",
       "    .dataframe tbody tr th:only-of-type {\n",
       "        vertical-align: middle;\n",
       "    }\n",
       "\n",
       "    .dataframe tbody tr th {\n",
       "        vertical-align: top;\n",
       "    }\n",
       "\n",
       "    .dataframe thead th {\n",
       "        text-align: right;\n",
       "    }\n",
       "</style>\n",
       "<table border=\"1\" class=\"dataframe\">\n",
       "  <thead>\n",
       "    <tr style=\"text-align: right;\">\n",
       "      <th></th>\n",
       "      <th>AUDI</th>\n",
       "      <th>DECL</th>\n",
       "      <th>DPTO</th>\n",
       "      <th>ELE</th>\n",
       "      <th>GVD</th>\n",
       "      <th>INC</th>\n",
       "      <th>INOFFDPTO</th>\n",
       "      <th>INOFFUSI</th>\n",
       "      <th>LOC</th>\n",
       "      <th>MADU</th>\n",
       "      <th>PJI</th>\n",
       "      <th>RETO</th>\n",
       "      <th>TALL</th>\n",
       "      <th>TIPO</th>\n",
       "      <th>UET</th>\n",
       "      <th>ZONA</th>\n",
       "    </tr>\n",
       "  </thead>\n",
       "  <tbody>\n",
       "    <tr>\n",
       "      <th>0</th>\n",
       "      <td>CAPS</td>\n",
       "      <td>2020-01-27 09:00:00.000000</td>\n",
       "      <td>NaN</td>\n",
       "      <td>4120</td>\n",
       "      <td>V2</td>\n",
       "      <td>180</td>\n",
       "      <td>NaN</td>\n",
       "      <td>NaN</td>\n",
       "      <td>-</td>\n",
       "      <td>NaN</td>\n",
       "      <td>655200530232</td>\n",
       "      <td>NaN</td>\n",
       "      <td>NaN</td>\n",
       "      <td>MOP</td>\n",
       "      <td>431</td>\n",
       "      <td>NaN</td>\n",
       "    </tr>\n",
       "    <tr>\n",
       "      <th>1</th>\n",
       "      <td>CAPS</td>\n",
       "      <td>2020-01-27 09:00:00.000000</td>\n",
       "      <td>NaN</td>\n",
       "      <td>4466</td>\n",
       "      <td>V2</td>\n",
       "      <td>1010</td>\n",
       "      <td>NaN</td>\n",
       "      <td>NaN</td>\n",
       "      <td>-</td>\n",
       "      <td>NaN</td>\n",
       "      <td>655200420197</td>\n",
       "      <td>NaN</td>\n",
       "      <td>NaN</td>\n",
       "      <td>MOP</td>\n",
       "      <td>484</td>\n",
       "      <td>NaN</td>\n",
       "    </tr>\n",
       "    <tr>\n",
       "      <th>2</th>\n",
       "      <td>CAPS</td>\n",
       "      <td>2020-01-27 09:00:00.000000</td>\n",
       "      <td>NaN</td>\n",
       "      <td>4420</td>\n",
       "      <td>V2</td>\n",
       "      <td>1110</td>\n",
       "      <td>NaN</td>\n",
       "      <td>NaN</td>\n",
       "      <td>-</td>\n",
       "      <td>NaN</td>\n",
       "      <td>655200450172</td>\n",
       "      <td>NaN</td>\n",
       "      <td>NaN</td>\n",
       "      <td>ASP</td>\n",
       "      <td>483</td>\n",
       "      <td>NaN</td>\n",
       "    </tr>\n",
       "    <tr>\n",
       "      <th>3</th>\n",
       "      <td>CAPS</td>\n",
       "      <td>2020-01-27 09:00:00.000000</td>\n",
       "      <td>NaN</td>\n",
       "      <td>4412</td>\n",
       "      <td>V2</td>\n",
       "      <td>1180</td>\n",
       "      <td>NaN</td>\n",
       "      <td>NaN</td>\n",
       "      <td>-</td>\n",
       "      <td>NaN</td>\n",
       "      <td>655200450172</td>\n",
       "      <td>NaN</td>\n",
       "      <td>NaN</td>\n",
       "      <td>ASP</td>\n",
       "      <td>484</td>\n",
       "      <td>NaN</td>\n",
       "    </tr>\n",
       "    <tr>\n",
       "      <th>4</th>\n",
       "      <td>CAPS</td>\n",
       "      <td>2020-01-27 09:00:00.000000</td>\n",
       "      <td>NaN</td>\n",
       "      <td>4414</td>\n",
       "      <td>V2</td>\n",
       "      <td>1270</td>\n",
       "      <td>NaN</td>\n",
       "      <td>NaN</td>\n",
       "      <td>-</td>\n",
       "      <td>NaN</td>\n",
       "      <td>655200420197</td>\n",
       "      <td>NaN</td>\n",
       "      <td>NaN</td>\n",
       "      <td>ASP</td>\n",
       "      <td>486</td>\n",
       "      <td>NaN</td>\n",
       "    </tr>\n",
       "  </tbody>\n",
       "</table>\n",
       "</div>"
      ],
      "text/plain": [
       "   AUDI                        DECL DPTO   ELE GVD   INC INOFFDPTO INOFFUSI  \\\n",
       "0  CAPS  2020-01-27 09:00:00.000000  NaN  4120  V2   180       NaN      NaN   \n",
       "1  CAPS  2020-01-27 09:00:00.000000  NaN  4466  V2  1010       NaN      NaN   \n",
       "2  CAPS  2020-01-27 09:00:00.000000  NaN  4420  V2  1110       NaN      NaN   \n",
       "3  CAPS  2020-01-27 09:00:00.000000  NaN  4412  V2  1180       NaN      NaN   \n",
       "4  CAPS  2020-01-27 09:00:00.000000  NaN  4414  V2  1270       NaN      NaN   \n",
       "\n",
       "  LOC MADU           PJI RETO TALL TIPO  UET ZONA  \n",
       "0   -  NaN  655200530232  NaN  NaN  MOP  431  NaN  \n",
       "1   -  NaN  655200420197  NaN  NaN  MOP  484  NaN  \n",
       "2   -  NaN  655200450172  NaN  NaN  ASP  483  NaN  \n",
       "3   -  NaN  655200450172  NaN  NaN  ASP  484  NaN  \n",
       "4   -  NaN  655200420197  NaN  NaN  ASP  486  NaN  "
      ]
     },
     "execution_count": 143,
     "metadata": {
      "tags": []
     },
     "output_type": "execute_result"
    }
   ],
   "source": [
    "df.head()"
   ]
  },
  {
   "cell_type": "markdown",
   "metadata": {
    "id": "O4n4t1a8mI2R"
   },
   "source": [
    "## Completar departamento y taller\n",
    "Algoritmo para completar el departamento y taller debido a la estructura jerárquica de la usina."
   ]
  },
  {
   "cell_type": "code",
   "execution_count": 147,
   "metadata": {
    "colab": {
     "base_uri": "https://localhost:8080/"
    },
    "executionInfo": {
     "elapsed": 586,
     "status": "ok",
     "timestamp": 1612584623349,
     "user": {
      "displayName": "GERARDO ALEXIS COLLANTE",
      "photoUrl": "",
      "userId": "09800145111652158848"
     },
     "user_tz": 180
    },
    "id": "-0oO2GcGhFUp",
    "outputId": "a1963df7-9511-46f8-f718-9dc7a4afbd94"
   },
   "outputs": [
    {
     "name": "stdout",
     "output_type": "stream",
     "text": [
      "misc/hierarchy.xlsx\n"
     ]
    }
   ],
   "source": [
    "MISC = 'misc/'\n",
    "hiepath = os.path.join(MISC, 'hierarchy.xlsx')\n",
    "print(hiepath)"
   ]
  },
  {
   "cell_type": "code",
   "execution_count": 154,
   "metadata": {
    "executionInfo": {
     "elapsed": 1105,
     "status": "ok",
     "timestamp": 1612584755768,
     "user": {
      "displayName": "GERARDO ALEXIS COLLANTE",
      "photoUrl": "",
      "userId": "09800145111652158848"
     },
     "user_tz": 180
    },
    "id": "NRIbI7tSiJoZ"
   },
   "outputs": [],
   "source": [
    "# Load hierarchy data\n",
    "hie = pd.read_excel(hiepath, 'Datos')\n",
    "hie.drop(columns=['DPTO', 'TALL', 'UET'], inplace=True)\n",
    "hie.rename(columns={'DPTOACRO':'DPTO','TALLACRO':'TALL','UETACRO':'UET'}, inplace=True)"
   ]
  },
  {
   "cell_type": "code",
   "execution_count": 156,
   "metadata": {
    "executionInfo": {
     "elapsed": 1558,
     "status": "ok",
     "timestamp": 1612584823230,
     "user": {
      "displayName": "GERARDO ALEXIS COLLANTE",
      "photoUrl": "",
      "userId": "09800145111652158848"
     },
     "user_tz": 180
    },
    "id": "T3qQ6hDTiNui"
   },
   "outputs": [],
   "source": [
    "hie['DPTO'] = hie['DPTO'].astype(str)\n",
    "hie['TALL'] = hie['TALL'].astype(str)\n",
    "hie['UET'] = hie['UET'].astype(str)"
   ]
  },
  {
   "cell_type": "code",
   "execution_count": 157,
   "metadata": {
    "executionInfo": {
     "elapsed": 655,
     "status": "ok",
     "timestamp": 1612584829953,
     "user": {
      "displayName": "GERARDO ALEXIS COLLANTE",
      "photoUrl": "",
      "userId": "09800145111652158848"
     },
     "user_tz": 180
    },
    "id": "DzaB0oKRi6Me"
   },
   "outputs": [],
   "source": [
    "hie['DPTO'].replace({'DCHAP':'SOLD', 'DPINT':'PINT', 'EMB ':'EMBU', 'DMONT':'MONT', 'MONTVU ':'MONT', 'CALID':'CALI'}, inplace=True)"
   ]
  },
  {
   "cell_type": "code",
   "execution_count": 158,
   "metadata": {
    "executionInfo": {
     "elapsed": 133398,
     "status": "ok",
     "timestamp": 1612584978694,
     "user": {
      "displayName": "GERARDO ALEXIS COLLANTE",
      "photoUrl": "",
      "userId": "09800145111652158848"
     },
     "user_tz": 180
    },
    "id": "aEQwjHhNi77A"
   },
   "outputs": [],
   "source": [
    "# Completar TALL en función a la UET\n",
    "def fill_taller(uet):\n",
    "    hieuet = hie.copy()\n",
    "    hieuet.set_index('UET', inplace=True)\n",
    "    try:\n",
    "        return hieuet.loc[uet].TALL\n",
    "    except:\n",
    "        pass\n",
    "\n",
    "# Completar DPTO en función al TALL\n",
    "def fill_dpto(tall):\n",
    "    hietall = hie.copy()\n",
    "    hietall = hietall.drop(columns='UET').drop_duplicates(subset='TALL')\n",
    "    hietall.set_index('TALL', inplace=True)\n",
    "    try:\n",
    "        return hietall.loc[tall].DPTO\n",
    "    except:\n",
    "        pass"
   ]
  },
  {
   "cell_type": "code",
   "execution_count": 159,
   "metadata": {
    "colab": {
     "base_uri": "https://localhost:8080/",
     "height": 424
    },
    "executionInfo": {
     "elapsed": 1065,
     "status": "ok",
     "timestamp": 1612584979774,
     "user": {
      "displayName": "GERARDO ALEXIS COLLANTE",
      "photoUrl": "",
      "userId": "09800145111652158848"
     },
     "user_tz": 180
    },
    "id": "Mxf0poq_i_99",
    "outputId": "1b4e6c9d-cbb0-476c-fb34-2a106df1c3f7"
   },
   "outputs": [
    {
     "data": {
      "text/html": [
       "<div>\n",
       "<style scoped>\n",
       "    .dataframe tbody tr th:only-of-type {\n",
       "        vertical-align: middle;\n",
       "    }\n",
       "\n",
       "    .dataframe tbody tr th {\n",
       "        vertical-align: top;\n",
       "    }\n",
       "\n",
       "    .dataframe thead th {\n",
       "        text-align: right;\n",
       "    }\n",
       "</style>\n",
       "<table border=\"1\" class=\"dataframe\">\n",
       "  <thead>\n",
       "    <tr style=\"text-align: right;\">\n",
       "      <th></th>\n",
       "      <th>AUDI</th>\n",
       "      <th>DECL</th>\n",
       "      <th>DPTO</th>\n",
       "      <th>ELE</th>\n",
       "      <th>GVD</th>\n",
       "      <th>INC</th>\n",
       "      <th>INOFFDPTO</th>\n",
       "      <th>INOFFUSI</th>\n",
       "      <th>LOC</th>\n",
       "      <th>MADU</th>\n",
       "      <th>PJI</th>\n",
       "      <th>RETO</th>\n",
       "      <th>TALL</th>\n",
       "      <th>TIPO</th>\n",
       "      <th>UET</th>\n",
       "      <th>ZONA</th>\n",
       "    </tr>\n",
       "  </thead>\n",
       "  <tbody>\n",
       "    <tr>\n",
       "      <th>0</th>\n",
       "      <td>CAPS</td>\n",
       "      <td>2020-01-27 09:00:00.000000</td>\n",
       "      <td>NaN</td>\n",
       "      <td>4120</td>\n",
       "      <td>V2</td>\n",
       "      <td>180</td>\n",
       "      <td>NaN</td>\n",
       "      <td>NaN</td>\n",
       "      <td>-</td>\n",
       "      <td>NaN</td>\n",
       "      <td>655200530232</td>\n",
       "      <td>NaN</td>\n",
       "      <td>TOLE4</td>\n",
       "      <td>MOP</td>\n",
       "      <td>431</td>\n",
       "      <td>NaN</td>\n",
       "    </tr>\n",
       "    <tr>\n",
       "      <th>1</th>\n",
       "      <td>CAPS</td>\n",
       "      <td>2020-01-27 09:00:00.000000</td>\n",
       "      <td>NaN</td>\n",
       "      <td>4466</td>\n",
       "      <td>V2</td>\n",
       "      <td>1010</td>\n",
       "      <td>NaN</td>\n",
       "      <td>NaN</td>\n",
       "      <td>-</td>\n",
       "      <td>NaN</td>\n",
       "      <td>655200420197</td>\n",
       "      <td>NaN</td>\n",
       "      <td>PTAL2</td>\n",
       "      <td>MOP</td>\n",
       "      <td>484</td>\n",
       "      <td>NaN</td>\n",
       "    </tr>\n",
       "    <tr>\n",
       "      <th>2</th>\n",
       "      <td>CAPS</td>\n",
       "      <td>2020-01-27 09:00:00.000000</td>\n",
       "      <td>NaN</td>\n",
       "      <td>4420</td>\n",
       "      <td>V2</td>\n",
       "      <td>1110</td>\n",
       "      <td>NaN</td>\n",
       "      <td>NaN</td>\n",
       "      <td>-</td>\n",
       "      <td>NaN</td>\n",
       "      <td>655200450172</td>\n",
       "      <td>NaN</td>\n",
       "      <td>PTAL2</td>\n",
       "      <td>ASP</td>\n",
       "      <td>483</td>\n",
       "      <td>NaN</td>\n",
       "    </tr>\n",
       "    <tr>\n",
       "      <th>3</th>\n",
       "      <td>CAPS</td>\n",
       "      <td>2020-01-27 09:00:00.000000</td>\n",
       "      <td>NaN</td>\n",
       "      <td>4412</td>\n",
       "      <td>V2</td>\n",
       "      <td>1180</td>\n",
       "      <td>NaN</td>\n",
       "      <td>NaN</td>\n",
       "      <td>-</td>\n",
       "      <td>NaN</td>\n",
       "      <td>655200450172</td>\n",
       "      <td>NaN</td>\n",
       "      <td>PTAL2</td>\n",
       "      <td>ASP</td>\n",
       "      <td>484</td>\n",
       "      <td>NaN</td>\n",
       "    </tr>\n",
       "    <tr>\n",
       "      <th>4</th>\n",
       "      <td>CAPS</td>\n",
       "      <td>2020-01-27 09:00:00.000000</td>\n",
       "      <td>NaN</td>\n",
       "      <td>4414</td>\n",
       "      <td>V2</td>\n",
       "      <td>1270</td>\n",
       "      <td>NaN</td>\n",
       "      <td>NaN</td>\n",
       "      <td>-</td>\n",
       "      <td>NaN</td>\n",
       "      <td>655200420197</td>\n",
       "      <td>NaN</td>\n",
       "      <td>PTAL2</td>\n",
       "      <td>ASP</td>\n",
       "      <td>486</td>\n",
       "      <td>NaN</td>\n",
       "    </tr>\n",
       "    <tr>\n",
       "      <th>...</th>\n",
       "      <td>...</td>\n",
       "      <td>...</td>\n",
       "      <td>...</td>\n",
       "      <td>...</td>\n",
       "      <td>...</td>\n",
       "      <td>...</td>\n",
       "      <td>...</td>\n",
       "      <td>...</td>\n",
       "      <td>...</td>\n",
       "      <td>...</td>\n",
       "      <td>...</td>\n",
       "      <td>...</td>\n",
       "      <td>...</td>\n",
       "      <td>...</td>\n",
       "      <td>...</td>\n",
       "      <td>...</td>\n",
       "    </tr>\n",
       "    <tr>\n",
       "      <th>235533</th>\n",
       "      <td>PESD</td>\n",
       "      <td>2020-12-30 09:06:00</td>\n",
       "      <td>PINT</td>\n",
       "      <td>4502</td>\n",
       "      <td>V2</td>\n",
       "      <td>1000</td>\n",
       "      <td>NaN</td>\n",
       "      <td>NaN</td>\n",
       "      <td>GRAL</td>\n",
       "      <td>NaN</td>\n",
       "      <td>655210140012</td>\n",
       "      <td>NaN</td>\n",
       "      <td>SERVP</td>\n",
       "      <td>ASP</td>\n",
       "      <td>DIP</td>\n",
       "      <td>PESD</td>\n",
       "    </tr>\n",
       "    <tr>\n",
       "      <th>235534</th>\n",
       "      <td>PESD</td>\n",
       "      <td>2020-12-30 10:03:00</td>\n",
       "      <td>SOLD</td>\n",
       "      <td>7887</td>\n",
       "      <td>V2</td>\n",
       "      <td>3220</td>\n",
       "      <td>NaN</td>\n",
       "      <td>NaN</td>\n",
       "      <td>-</td>\n",
       "      <td>NaN</td>\n",
       "      <td>655210140033</td>\n",
       "      <td>NaN</td>\n",
       "      <td>TOLE4</td>\n",
       "      <td>GMTR</td>\n",
       "      <td>659</td>\n",
       "      <td>PESD</td>\n",
       "    </tr>\n",
       "    <tr>\n",
       "      <th>235535</th>\n",
       "      <td>PESD</td>\n",
       "      <td>2020-12-30 10:03:00</td>\n",
       "      <td>MONT</td>\n",
       "      <td>5215</td>\n",
       "      <td>V2</td>\n",
       "      <td>4450</td>\n",
       "      <td>NaN</td>\n",
       "      <td>NaN</td>\n",
       "      <td>K74</td>\n",
       "      <td>NaN</td>\n",
       "      <td>655210140033</td>\n",
       "      <td>NaN</td>\n",
       "      <td>CH-ME</td>\n",
       "      <td>NCON</td>\n",
       "      <td>654</td>\n",
       "      <td>PESD</td>\n",
       "    </tr>\n",
       "    <tr>\n",
       "      <th>235536</th>\n",
       "      <td>PESD</td>\n",
       "      <td>2020-12-30 10:03:00</td>\n",
       "      <td>PINT</td>\n",
       "      <td>4401</td>\n",
       "      <td>V2</td>\n",
       "      <td>1190</td>\n",
       "      <td>NaN</td>\n",
       "      <td>NaN</td>\n",
       "      <td>H54</td>\n",
       "      <td>NaN</td>\n",
       "      <td>655210140033</td>\n",
       "      <td>NaN</td>\n",
       "      <td>PTAL2</td>\n",
       "      <td>ASP</td>\n",
       "      <td>483</td>\n",
       "      <td>PESD</td>\n",
       "    </tr>\n",
       "    <tr>\n",
       "      <th>235537</th>\n",
       "      <td>PESD</td>\n",
       "      <td>2020-12-30 10:03:00</td>\n",
       "      <td>SOLD</td>\n",
       "      <td>4506</td>\n",
       "      <td>V2</td>\n",
       "      <td>1510</td>\n",
       "      <td>NaN</td>\n",
       "      <td>NaN</td>\n",
       "      <td>-</td>\n",
       "      <td>NaN</td>\n",
       "      <td>655210140033</td>\n",
       "      <td>NaN</td>\n",
       "      <td>TOLE4</td>\n",
       "      <td>DGRC</td>\n",
       "      <td>659</td>\n",
       "      <td>PESD</td>\n",
       "    </tr>\n",
       "  </tbody>\n",
       "</table>\n",
       "<p>229934 rows × 16 columns</p>\n",
       "</div>"
      ],
      "text/plain": [
       "        AUDI                        DECL  DPTO   ELE GVD   INC INOFFDPTO  \\\n",
       "0       CAPS  2020-01-27 09:00:00.000000   NaN  4120  V2   180       NaN   \n",
       "1       CAPS  2020-01-27 09:00:00.000000   NaN  4466  V2  1010       NaN   \n",
       "2       CAPS  2020-01-27 09:00:00.000000   NaN  4420  V2  1110       NaN   \n",
       "3       CAPS  2020-01-27 09:00:00.000000   NaN  4412  V2  1180       NaN   \n",
       "4       CAPS  2020-01-27 09:00:00.000000   NaN  4414  V2  1270       NaN   \n",
       "...      ...                         ...   ...   ...  ..   ...       ...   \n",
       "235533  PESD         2020-12-30 09:06:00  PINT  4502  V2  1000       NaN   \n",
       "235534  PESD         2020-12-30 10:03:00  SOLD  7887  V2  3220       NaN   \n",
       "235535  PESD         2020-12-30 10:03:00  MONT  5215  V2  4450       NaN   \n",
       "235536  PESD         2020-12-30 10:03:00  PINT  4401  V2  1190       NaN   \n",
       "235537  PESD         2020-12-30 10:03:00  SOLD  4506  V2  1510       NaN   \n",
       "\n",
       "       INOFFUSI   LOC MADU           PJI RETO   TALL  TIPO  UET  ZONA  \n",
       "0           NaN     -  NaN  655200530232  NaN  TOLE4   MOP  431   NaN  \n",
       "1           NaN     -  NaN  655200420197  NaN  PTAL2   MOP  484   NaN  \n",
       "2           NaN     -  NaN  655200450172  NaN  PTAL2   ASP  483   NaN  \n",
       "3           NaN     -  NaN  655200450172  NaN  PTAL2   ASP  484   NaN  \n",
       "4           NaN     -  NaN  655200420197  NaN  PTAL2   ASP  486   NaN  \n",
       "...         ...   ...  ...           ...  ...    ...   ...  ...   ...  \n",
       "235533      NaN  GRAL  NaN  655210140012  NaN  SERVP   ASP  DIP  PESD  \n",
       "235534      NaN     -  NaN  655210140033  NaN  TOLE4  GMTR  659  PESD  \n",
       "235535      NaN   K74  NaN  655210140033  NaN  CH-ME  NCON  654  PESD  \n",
       "235536      NaN   H54  NaN  655210140033  NaN  PTAL2   ASP  483  PESD  \n",
       "235537      NaN     -  NaN  655210140033  NaN  TOLE4  DGRC  659  PESD  \n",
       "\n",
       "[229934 rows x 16 columns]"
      ]
     },
     "execution_count": 159,
     "metadata": {
      "tags": []
     },
     "output_type": "execute_result"
    }
   ],
   "source": [
    "df['TALL'] = df.apply(lambda row: fill_taller(row['UET']), axis=1)\n",
    "df['DPTO'] = df.apply(lambda row: fill_dpto(row['TALL']), axis=1)"
   ]
  },
  {
   "cell_type": "code",
   "execution_count": 163,
   "metadata": {
    "executionInfo": {
     "elapsed": 2269,
     "status": "ok",
     "timestamp": 1612585820788,
     "user": {
      "displayName": "GERARDO ALEXIS COLLANTE",
      "photoUrl": "",
      "userId": "09800145111652158848"
     },
     "user_tz": 180
    },
    "id": "QU7fq9Z8nvb_"
   },
   "outputs": [],
   "source": [
    "# Save imputed data\n",
    "DATAIMP = os.path.join(DATADIR, '2020_imp.csv')\n",
    "df.to_csv(DATAIMP)"
   ]
  },
  {
   "cell_type": "code",
   "execution_count": 162,
   "metadata": {
    "colab": {
     "base_uri": "https://localhost:8080/",
     "height": 424
    },
    "executionInfo": {
     "elapsed": 852,
     "status": "ok",
     "timestamp": 1612585805448,
     "user": {
      "displayName": "GERARDO ALEXIS COLLANTE",
      "photoUrl": "",
      "userId": "09800145111652158848"
     },
     "user_tz": 180
    },
    "id": "WsKfhNIPjp3W",
    "outputId": "8e1e0203-8bba-4137-9b2d-91d6ffa86cd0"
   },
   "outputs": [
    {
     "data": {
      "text/html": [
       "<div>\n",
       "<style scoped>\n",
       "    .dataframe tbody tr th:only-of-type {\n",
       "        vertical-align: middle;\n",
       "    }\n",
       "\n",
       "    .dataframe tbody tr th {\n",
       "        vertical-align: top;\n",
       "    }\n",
       "\n",
       "    .dataframe thead th {\n",
       "        text-align: right;\n",
       "    }\n",
       "</style>\n",
       "<table border=\"1\" class=\"dataframe\">\n",
       "  <thead>\n",
       "    <tr style=\"text-align: right;\">\n",
       "      <th></th>\n",
       "      <th>AUDI</th>\n",
       "      <th>DECL</th>\n",
       "      <th>DPTO</th>\n",
       "      <th>ELE</th>\n",
       "      <th>GVD</th>\n",
       "      <th>INC</th>\n",
       "      <th>INOFFDPTO</th>\n",
       "      <th>INOFFUSI</th>\n",
       "      <th>LOC</th>\n",
       "      <th>MADU</th>\n",
       "      <th>PJI</th>\n",
       "      <th>RETO</th>\n",
       "      <th>TALL</th>\n",
       "      <th>TIPO</th>\n",
       "      <th>UET</th>\n",
       "      <th>ZONA</th>\n",
       "    </tr>\n",
       "  </thead>\n",
       "  <tbody>\n",
       "    <tr>\n",
       "      <th>0</th>\n",
       "      <td>CAPS</td>\n",
       "      <td>2020-01-27 09:00:00.000000</td>\n",
       "      <td>SOLD</td>\n",
       "      <td>4120</td>\n",
       "      <td>V2</td>\n",
       "      <td>180</td>\n",
       "      <td>NaN</td>\n",
       "      <td>NaN</td>\n",
       "      <td>-</td>\n",
       "      <td>NaN</td>\n",
       "      <td>655200530232</td>\n",
       "      <td>NaN</td>\n",
       "      <td>TOLE4</td>\n",
       "      <td>MOP</td>\n",
       "      <td>431</td>\n",
       "      <td>NaN</td>\n",
       "    </tr>\n",
       "    <tr>\n",
       "      <th>1</th>\n",
       "      <td>CAPS</td>\n",
       "      <td>2020-01-27 09:00:00.000000</td>\n",
       "      <td>PINT</td>\n",
       "      <td>4466</td>\n",
       "      <td>V2</td>\n",
       "      <td>1010</td>\n",
       "      <td>NaN</td>\n",
       "      <td>NaN</td>\n",
       "      <td>-</td>\n",
       "      <td>NaN</td>\n",
       "      <td>655200420197</td>\n",
       "      <td>NaN</td>\n",
       "      <td>PTAL2</td>\n",
       "      <td>MOP</td>\n",
       "      <td>484</td>\n",
       "      <td>NaN</td>\n",
       "    </tr>\n",
       "    <tr>\n",
       "      <th>2</th>\n",
       "      <td>CAPS</td>\n",
       "      <td>2020-01-27 09:00:00.000000</td>\n",
       "      <td>PINT</td>\n",
       "      <td>4420</td>\n",
       "      <td>V2</td>\n",
       "      <td>1110</td>\n",
       "      <td>NaN</td>\n",
       "      <td>NaN</td>\n",
       "      <td>-</td>\n",
       "      <td>NaN</td>\n",
       "      <td>655200450172</td>\n",
       "      <td>NaN</td>\n",
       "      <td>PTAL2</td>\n",
       "      <td>ASP</td>\n",
       "      <td>483</td>\n",
       "      <td>NaN</td>\n",
       "    </tr>\n",
       "    <tr>\n",
       "      <th>3</th>\n",
       "      <td>CAPS</td>\n",
       "      <td>2020-01-27 09:00:00.000000</td>\n",
       "      <td>PINT</td>\n",
       "      <td>4412</td>\n",
       "      <td>V2</td>\n",
       "      <td>1180</td>\n",
       "      <td>NaN</td>\n",
       "      <td>NaN</td>\n",
       "      <td>-</td>\n",
       "      <td>NaN</td>\n",
       "      <td>655200450172</td>\n",
       "      <td>NaN</td>\n",
       "      <td>PTAL2</td>\n",
       "      <td>ASP</td>\n",
       "      <td>484</td>\n",
       "      <td>NaN</td>\n",
       "    </tr>\n",
       "    <tr>\n",
       "      <th>4</th>\n",
       "      <td>CAPS</td>\n",
       "      <td>2020-01-27 09:00:00.000000</td>\n",
       "      <td>PINT</td>\n",
       "      <td>4414</td>\n",
       "      <td>V2</td>\n",
       "      <td>1270</td>\n",
       "      <td>NaN</td>\n",
       "      <td>NaN</td>\n",
       "      <td>-</td>\n",
       "      <td>NaN</td>\n",
       "      <td>655200420197</td>\n",
       "      <td>NaN</td>\n",
       "      <td>PTAL2</td>\n",
       "      <td>ASP</td>\n",
       "      <td>486</td>\n",
       "      <td>NaN</td>\n",
       "    </tr>\n",
       "    <tr>\n",
       "      <th>...</th>\n",
       "      <td>...</td>\n",
       "      <td>...</td>\n",
       "      <td>...</td>\n",
       "      <td>...</td>\n",
       "      <td>...</td>\n",
       "      <td>...</td>\n",
       "      <td>...</td>\n",
       "      <td>...</td>\n",
       "      <td>...</td>\n",
       "      <td>...</td>\n",
       "      <td>...</td>\n",
       "      <td>...</td>\n",
       "      <td>...</td>\n",
       "      <td>...</td>\n",
       "      <td>...</td>\n",
       "      <td>...</td>\n",
       "    </tr>\n",
       "    <tr>\n",
       "      <th>235533</th>\n",
       "      <td>PESD</td>\n",
       "      <td>2020-12-30 09:06:00</td>\n",
       "      <td>PINT</td>\n",
       "      <td>4502</td>\n",
       "      <td>V2</td>\n",
       "      <td>1000</td>\n",
       "      <td>NaN</td>\n",
       "      <td>NaN</td>\n",
       "      <td>GRAL</td>\n",
       "      <td>NaN</td>\n",
       "      <td>655210140012</td>\n",
       "      <td>NaN</td>\n",
       "      <td>SERVP</td>\n",
       "      <td>ASP</td>\n",
       "      <td>DIP</td>\n",
       "      <td>PESD</td>\n",
       "    </tr>\n",
       "    <tr>\n",
       "      <th>235534</th>\n",
       "      <td>PESD</td>\n",
       "      <td>2020-12-30 10:03:00</td>\n",
       "      <td>SOLD</td>\n",
       "      <td>7887</td>\n",
       "      <td>V2</td>\n",
       "      <td>3220</td>\n",
       "      <td>NaN</td>\n",
       "      <td>NaN</td>\n",
       "      <td>-</td>\n",
       "      <td>NaN</td>\n",
       "      <td>655210140033</td>\n",
       "      <td>NaN</td>\n",
       "      <td>TOLE4</td>\n",
       "      <td>GMTR</td>\n",
       "      <td>659</td>\n",
       "      <td>PESD</td>\n",
       "    </tr>\n",
       "    <tr>\n",
       "      <th>235535</th>\n",
       "      <td>PESD</td>\n",
       "      <td>2020-12-30 10:03:00</td>\n",
       "      <td>MONTVU</td>\n",
       "      <td>5215</td>\n",
       "      <td>V2</td>\n",
       "      <td>4450</td>\n",
       "      <td>NaN</td>\n",
       "      <td>NaN</td>\n",
       "      <td>K74</td>\n",
       "      <td>NaN</td>\n",
       "      <td>655210140033</td>\n",
       "      <td>NaN</td>\n",
       "      <td>CH-ME</td>\n",
       "      <td>NCON</td>\n",
       "      <td>654</td>\n",
       "      <td>PESD</td>\n",
       "    </tr>\n",
       "    <tr>\n",
       "      <th>235536</th>\n",
       "      <td>PESD</td>\n",
       "      <td>2020-12-30 10:03:00</td>\n",
       "      <td>PINT</td>\n",
       "      <td>4401</td>\n",
       "      <td>V2</td>\n",
       "      <td>1190</td>\n",
       "      <td>NaN</td>\n",
       "      <td>NaN</td>\n",
       "      <td>H54</td>\n",
       "      <td>NaN</td>\n",
       "      <td>655210140033</td>\n",
       "      <td>NaN</td>\n",
       "      <td>PTAL2</td>\n",
       "      <td>ASP</td>\n",
       "      <td>483</td>\n",
       "      <td>PESD</td>\n",
       "    </tr>\n",
       "    <tr>\n",
       "      <th>235537</th>\n",
       "      <td>PESD</td>\n",
       "      <td>2020-12-30 10:03:00</td>\n",
       "      <td>SOLD</td>\n",
       "      <td>4506</td>\n",
       "      <td>V2</td>\n",
       "      <td>1510</td>\n",
       "      <td>NaN</td>\n",
       "      <td>NaN</td>\n",
       "      <td>-</td>\n",
       "      <td>NaN</td>\n",
       "      <td>655210140033</td>\n",
       "      <td>NaN</td>\n",
       "      <td>TOLE4</td>\n",
       "      <td>DGRC</td>\n",
       "      <td>659</td>\n",
       "      <td>PESD</td>\n",
       "    </tr>\n",
       "  </tbody>\n",
       "</table>\n",
       "<p>229934 rows × 16 columns</p>\n",
       "</div>"
      ],
      "text/plain": [
       "        AUDI                        DECL    DPTO   ELE GVD   INC INOFFDPTO  \\\n",
       "0       CAPS  2020-01-27 09:00:00.000000    SOLD  4120  V2   180       NaN   \n",
       "1       CAPS  2020-01-27 09:00:00.000000    PINT  4466  V2  1010       NaN   \n",
       "2       CAPS  2020-01-27 09:00:00.000000    PINT  4420  V2  1110       NaN   \n",
       "3       CAPS  2020-01-27 09:00:00.000000    PINT  4412  V2  1180       NaN   \n",
       "4       CAPS  2020-01-27 09:00:00.000000    PINT  4414  V2  1270       NaN   \n",
       "...      ...                         ...     ...   ...  ..   ...       ...   \n",
       "235533  PESD         2020-12-30 09:06:00    PINT  4502  V2  1000       NaN   \n",
       "235534  PESD         2020-12-30 10:03:00    SOLD  7887  V2  3220       NaN   \n",
       "235535  PESD         2020-12-30 10:03:00  MONTVU  5215  V2  4450       NaN   \n",
       "235536  PESD         2020-12-30 10:03:00    PINT  4401  V2  1190       NaN   \n",
       "235537  PESD         2020-12-30 10:03:00    SOLD  4506  V2  1510       NaN   \n",
       "\n",
       "       INOFFUSI   LOC MADU           PJI RETO   TALL  TIPO  UET  ZONA  \n",
       "0           NaN     -  NaN  655200530232  NaN  TOLE4   MOP  431   NaN  \n",
       "1           NaN     -  NaN  655200420197  NaN  PTAL2   MOP  484   NaN  \n",
       "2           NaN     -  NaN  655200450172  NaN  PTAL2   ASP  483   NaN  \n",
       "3           NaN     -  NaN  655200450172  NaN  PTAL2   ASP  484   NaN  \n",
       "4           NaN     -  NaN  655200420197  NaN  PTAL2   ASP  486   NaN  \n",
       "...         ...   ...  ...           ...  ...    ...   ...  ...   ...  \n",
       "235533      NaN  GRAL  NaN  655210140012  NaN  SERVP   ASP  DIP  PESD  \n",
       "235534      NaN     -  NaN  655210140033  NaN  TOLE4  GMTR  659  PESD  \n",
       "235535      NaN   K74  NaN  655210140033  NaN  CH-ME  NCON  654  PESD  \n",
       "235536      NaN   H54  NaN  655210140033  NaN  PTAL2   ASP  483  PESD  \n",
       "235537      NaN     -  NaN  655210140033  NaN  TOLE4  DGRC  659  PESD  \n",
       "\n",
       "[229934 rows x 16 columns]"
      ]
     },
     "execution_count": 162,
     "metadata": {
      "tags": []
     },
     "output_type": "execute_result"
    }
   ],
   "source": [
    "df"
   ]
  }
 ],
 "metadata": {
  "accelerator": "GPU",
  "colab": {
   "collapsed_sections": [],
   "name": "DataImputation.ipynb",
   "provenance": []
  },
  "kernelspec": {
   "display_name": "Python 3",
   "language": "python",
   "name": "python3"
  },
  "language_info": {
   "codemirror_mode": {
    "name": "ipython",
    "version": 3
   },
   "file_extension": ".py",
   "mimetype": "text/x-python",
   "name": "python",
   "nbconvert_exporter": "python",
   "pygments_lexer": "ipython3",
   "version": "3.9.1"
  }
 },
 "nbformat": 4,
 "nbformat_minor": 4
}
